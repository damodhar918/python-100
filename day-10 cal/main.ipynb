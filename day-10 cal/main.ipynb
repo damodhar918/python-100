{
 "cells": [
  {
   "cell_type": "markdown",
   "metadata": {},
   "source": [
    "## Days in Month\n",
    "\n",
    "# UPDATE\n",
    "We've moved away from repl.it for coding exercises.\n",
    "Check out the new exercises on Coding Rooms with automated submissions.\n",
    "\n",
    "Login to your Udemy course and head over to the link below to get the sign up link:\n",
    "\n",
    "[Click here](https://www.udemy.com/course/100-days-of-code/learn/lecture/17825914#questions)\n",
    "\n",
    "# Instructions\n",
    "\n",
    "\n",
    "In the starting code, you'll find the solution from the Leap Year challenge. First, convert this function `is_leap()` so that instead of printing \"Leap year.\" or \"Not leap year.\" it should **return** `True` if it is a leap year and **return** `False` if it is not a leap year.\n",
    "\n",
    "You are then going to create a function called `days_in_month()` which will take a **year** and a **month** as inputs, e.g.\n",
    "\n",
    "```\n",
    "days_in_month(year=2022, month=2)\n",
    "```\n",
    "\n",
    "And it will use this information to work out the **number of days in the month**, then **return** that as the **output**, **e.g.:**\n",
    "\n",
    "```\n",
    "28\n",
    "```\n",
    "\n",
    "The List month_days contains the number of days in a month from January to December for a non-leap year. A leap year has 29 days in February.\n",
    "\n",
    "# Hint\n",
    "\n",
    "1. Look at the function call at the bottom of the code to see the positional arguments.  The order is very important.\n",
    "\n",
    "2. Feel free to choose your own parameter names.\n",
    "\n",
    "3. Remember that `month_days` is a List and Lists in Python start at position 0. So the number of days in January is `month_days[0]`\n",
    "\n",
    "4. Be careful with indentation.\n",
    "\n",
    "# Test Your Code\n",
    "\n",
    "Before checking the solution, try copy-pasting your code into this repl: \n",
    "\n",
    "[https://repl.it/@appbrewery/day-10-1-test-your-code](https://repl.it/@appbrewery/day-10-1-test-your-code)\n",
    "\n",
    "This repl includes my testing code that will check if your code meets this assignment's objectives. \n",
    "\n",
    "\n",
    "\n",
    "# Solution\n",
    "\n",
    "[https://repl.it/@appbrewery/day-10-1-solution](https://repl.it/@appbrewery/day-10-1-solution)"
   ]
  },
  {
   "cell_type": "code",
   "execution_count": 6,
   "metadata": {},
   "outputs": [
    {
     "name": "stdout",
     "output_type": "stream",
     "text": [
      "Invalid month\n"
     ]
    }
   ],
   "source": [
    "def is_leap(year):\n",
    "  if year % 4 == 0:\n",
    "    if year % 100 == 0:\n",
    "      if year % 400 == 0:\n",
    "        print(\"Leap year.\")\n",
    "      else:\n",
    "        print(\"Not leap year.\")\n",
    "    else:\n",
    "      print(\"Leap year.\")\n",
    "  else:\n",
    "    print(\"Not leap year.\")\n",
    "\n",
    "def days_in_month(year,month) :\n",
    "    if month>12 or month<1:\n",
    "        return \"Invalid month\"\n",
    "    month_days = [31, 28, 31, 30, 31, 30, 31, 31, 30, 31, 30, 31]  \n",
    "    if is_leap(year) and month == 2:\n",
    "        return 29\n",
    "    return month_days[month - 1]\n",
    "  \n",
    "#🚨 Do NOT change any of the code below \n",
    "year = int(input(\"Enter a year: \"))\n",
    "month = int(input(\"Enter a month: \"))\n",
    "days = days_in_month(year, month)\n",
    "print(days)\n"
   ]
  },
  {
   "cell_type": "code",
   "execution_count": null,
   "metadata": {},
   "outputs": [],
   "source": []
  }
 ],
 "metadata": {
  "kernelspec": {
   "display_name": "Python 3.9.7 ('base')",
   "language": "python",
   "name": "python3"
  },
  "language_info": {
   "codemirror_mode": {
    "name": "ipython",
    "version": 3
   },
   "file_extension": ".py",
   "mimetype": "text/x-python",
   "name": "python",
   "nbconvert_exporter": "python",
   "pygments_lexer": "ipython3",
   "version": "3.9.7"
  },
  "orig_nbformat": 4,
  "vscode": {
   "interpreter": {
    "hash": "d63037db690493584af13c932001cbcec6e8d8f1b0fe914ec2418adc9d2150bb"
   }
  }
 },
 "nbformat": 4,
 "nbformat_minor": 2
}
