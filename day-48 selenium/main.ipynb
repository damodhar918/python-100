{
 "cells": [
  {
   "cell_type": "code",
   "execution_count": 10,
   "metadata": {},
   "outputs": [],
   "source": [
    "from selenium import webdriver\n",
    "import time\n",
    "from selenium.webdriver.common.by import By"
   ]
  },
  {
   "cell_type": "code",
   "execution_count": 7,
   "metadata": {},
   "outputs": [],
   "source": [
    "chrome_driver_path = r'C:\\Users\\jdamodhar\\Downloads\\chromedriver.exe'\n"
   ]
  },
  {
   "cell_type": "code",
   "execution_count": null,
   "metadata": {},
   "outputs": [],
   "source": [
    "\"\"\"find_element(By.ID, \"id\")\n",
    "find_element(By.NAME, \"name\")\n",
    "find_element(By.XPATH, \"xpath\")\n",
    "find_element(By.LINK_TEXT, \"link text\")\n",
    "find_element(By.PARTIAL_LINK_TEXT, \"partial link text\")\n",
    "find_element(By.TAG_NAME, \"tag name\")\n",
    "find_element(By.CLASS_NAME, \"class name\")\n",
    "find_element(By.CSS_SELECTOR, \"css selector\")\"\"\""
   ]
  },
  {
   "cell_type": "code",
   "execution_count": 11,
   "metadata": {},
   "outputs": [
    {
     "name": "stderr",
     "output_type": "stream",
     "text": [
      "C:\\Users\\jdamodhar\\AppData\\Local\\Temp\\ipykernel_24512\\2076682220.py:1: DeprecationWarning: executable_path has been deprecated, please pass in a Service object\n",
      "  driver = webdriver.Chrome(chrome_driver_path)\n"
     ]
    },
    {
     "ename": "NoSuchElementException",
     "evalue": "Message: no such element: Unable to locate element: {\"method\":\"css selector\",\"selector\":\"download-widget\"}\n  (Session info: chrome=105.0.5195.127)\nStacktrace:\nBacktrace:\n\tOrdinal0 [0x005FDF13+2219795]\n\tOrdinal0 [0x00592841+1779777]\n\tOrdinal0 [0x004A423D+803389]\n\tOrdinal0 [0x004D3025+995365]\n\tOrdinal0 [0x004D31EB+995819]\n\tOrdinal0 [0x00500F52+1183570]\n\tOrdinal0 [0x004EE844+1108036]\n\tOrdinal0 [0x004FF192+1175954]\n\tOrdinal0 [0x004EE616+1107478]\n\tOrdinal0 [0x004C7F89+950153]\n\tOrdinal0 [0x004C8F56+954198]\n\tGetHandleVerifier [0x008F2CB2+3040210]\n\tGetHandleVerifier [0x008E2BB4+2974420]\n\tGetHandleVerifier [0x00696A0A+565546]\n\tGetHandleVerifier [0x00695680+560544]\n\tOrdinal0 [0x00599A5C+1808988]\n\tOrdinal0 [0x0059E3A8+1827752]\n\tOrdinal0 [0x0059E495+1827989]\n\tOrdinal0 [0x005A80A4+1867940]\n\tBaseThreadInitThunk [0x765BFA29+25]\n\tRtlGetAppContainerNamedObjectPath [0x774C7A9E+286]\n\tRtlGetAppContainerNamedObjectPath [0x774C7A6E+238]\n",
     "output_type": "error",
     "traceback": [
      "\u001b[1;31m---------------------------------------------------------------------------\u001b[0m",
      "\u001b[1;31mNoSuchElementException\u001b[0m                    Traceback (most recent call last)",
      "Cell \u001b[1;32mIn [11], line 3\u001b[0m\n\u001b[0;32m      1\u001b[0m driver \u001b[38;5;241m=\u001b[39m webdriver\u001b[38;5;241m.\u001b[39mChrome(chrome_driver_path)\n\u001b[0;32m      2\u001b[0m driver\u001b[38;5;241m.\u001b[39mget(\u001b[38;5;124m'\u001b[39m\u001b[38;5;124mhttps://www.python.org/\u001b[39m\u001b[38;5;124m'\u001b[39m)\n\u001b[1;32m----> 3\u001b[0m doc \u001b[38;5;241m=\u001b[39m \u001b[43mdriver\u001b[49m\u001b[38;5;241;43m.\u001b[39;49m\u001b[43mfind_element\u001b[49m\u001b[43m(\u001b[49m\u001b[43mBy\u001b[49m\u001b[38;5;241;43m.\u001b[39;49m\u001b[43mCSS_SELECTOR\u001b[49m\u001b[43m,\u001b[49m\u001b[43m \u001b[49m\u001b[38;5;124;43m'\u001b[39;49m\u001b[38;5;124;43mdownload-widget\u001b[39;49m\u001b[38;5;124;43m'\u001b[39;49m\u001b[43m)\u001b[49m\n\u001b[0;32m      4\u001b[0m \u001b[38;5;66;03m# doc = driver.find_element_by_css_selector('.download-widget a')\u001b[39;00m\n\u001b[0;32m      5\u001b[0m \u001b[38;5;28mprint\u001b[39m(doc)\n",
      "File \u001b[1;32mc:\\Users\\jdamodhar\\Anaconda3\\lib\\site-packages\\selenium\\webdriver\\remote\\webdriver.py:855\u001b[0m, in \u001b[0;36mWebDriver.find_element\u001b[1;34m(self, by, value)\u001b[0m\n\u001b[0;32m    852\u001b[0m     by \u001b[39m=\u001b[39m By\u001b[39m.\u001b[39mCSS_SELECTOR\n\u001b[0;32m    853\u001b[0m     value \u001b[39m=\u001b[39m \u001b[39m'\u001b[39m\u001b[39m[name=\u001b[39m\u001b[39m\"\u001b[39m\u001b[39m%s\u001b[39;00m\u001b[39m\"\u001b[39m\u001b[39m]\u001b[39m\u001b[39m'\u001b[39m \u001b[39m%\u001b[39m value\n\u001b[1;32m--> 855\u001b[0m \u001b[39mreturn\u001b[39;00m \u001b[39mself\u001b[39;49m\u001b[39m.\u001b[39;49mexecute(Command\u001b[39m.\u001b[39;49mFIND_ELEMENT, {\n\u001b[0;32m    856\u001b[0m     \u001b[39m'\u001b[39;49m\u001b[39musing\u001b[39;49m\u001b[39m'\u001b[39;49m: by,\n\u001b[0;32m    857\u001b[0m     \u001b[39m'\u001b[39;49m\u001b[39mvalue\u001b[39;49m\u001b[39m'\u001b[39;49m: value})[\u001b[39m'\u001b[39m\u001b[39mvalue\u001b[39m\u001b[39m'\u001b[39m]\n",
      "File \u001b[1;32mc:\\Users\\jdamodhar\\Anaconda3\\lib\\site-packages\\selenium\\webdriver\\remote\\webdriver.py:428\u001b[0m, in \u001b[0;36mWebDriver.execute\u001b[1;34m(self, driver_command, params)\u001b[0m\n\u001b[0;32m    426\u001b[0m response \u001b[39m=\u001b[39m \u001b[39mself\u001b[39m\u001b[39m.\u001b[39mcommand_executor\u001b[39m.\u001b[39mexecute(driver_command, params)\n\u001b[0;32m    427\u001b[0m \u001b[39mif\u001b[39;00m response:\n\u001b[1;32m--> 428\u001b[0m     \u001b[39mself\u001b[39;49m\u001b[39m.\u001b[39;49merror_handler\u001b[39m.\u001b[39;49mcheck_response(response)\n\u001b[0;32m    429\u001b[0m     response[\u001b[39m'\u001b[39m\u001b[39mvalue\u001b[39m\u001b[39m'\u001b[39m] \u001b[39m=\u001b[39m \u001b[39mself\u001b[39m\u001b[39m.\u001b[39m_unwrap_value(\n\u001b[0;32m    430\u001b[0m         response\u001b[39m.\u001b[39mget(\u001b[39m'\u001b[39m\u001b[39mvalue\u001b[39m\u001b[39m'\u001b[39m, \u001b[39mNone\u001b[39;00m))\n\u001b[0;32m    431\u001b[0m     \u001b[39mreturn\u001b[39;00m response\n",
      "File \u001b[1;32mc:\\Users\\jdamodhar\\Anaconda3\\lib\\site-packages\\selenium\\webdriver\\remote\\errorhandler.py:243\u001b[0m, in \u001b[0;36mErrorHandler.check_response\u001b[1;34m(self, response)\u001b[0m\n\u001b[0;32m    241\u001b[0m         alert_text \u001b[39m=\u001b[39m value[\u001b[39m'\u001b[39m\u001b[39malert\u001b[39m\u001b[39m'\u001b[39m]\u001b[39m.\u001b[39mget(\u001b[39m'\u001b[39m\u001b[39mtext\u001b[39m\u001b[39m'\u001b[39m)\n\u001b[0;32m    242\u001b[0m     \u001b[39mraise\u001b[39;00m exception_class(message, screen, stacktrace, alert_text)  \u001b[39m# type: ignore[call-arg]  # mypy is not smart enough here\u001b[39;00m\n\u001b[1;32m--> 243\u001b[0m \u001b[39mraise\u001b[39;00m exception_class(message, screen, stacktrace)\n",
      "\u001b[1;31mNoSuchElementException\u001b[0m: Message: no such element: Unable to locate element: {\"method\":\"css selector\",\"selector\":\"download-widget\"}\n  (Session info: chrome=105.0.5195.127)\nStacktrace:\nBacktrace:\n\tOrdinal0 [0x005FDF13+2219795]\n\tOrdinal0 [0x00592841+1779777]\n\tOrdinal0 [0x004A423D+803389]\n\tOrdinal0 [0x004D3025+995365]\n\tOrdinal0 [0x004D31EB+995819]\n\tOrdinal0 [0x00500F52+1183570]\n\tOrdinal0 [0x004EE844+1108036]\n\tOrdinal0 [0x004FF192+1175954]\n\tOrdinal0 [0x004EE616+1107478]\n\tOrdinal0 [0x004C7F89+950153]\n\tOrdinal0 [0x004C8F56+954198]\n\tGetHandleVerifier [0x008F2CB2+3040210]\n\tGetHandleVerifier [0x008E2BB4+2974420]\n\tGetHandleVerifier [0x00696A0A+565546]\n\tGetHandleVerifier [0x00695680+560544]\n\tOrdinal0 [0x00599A5C+1808988]\n\tOrdinal0 [0x0059E3A8+1827752]\n\tOrdinal0 [0x0059E495+1827989]\n\tOrdinal0 [0x005A80A4+1867940]\n\tBaseThreadInitThunk [0x765BFA29+25]\n\tRtlGetAppContainerNamedObjectPath [0x774C7A9E+286]\n\tRtlGetAppContainerNamedObjectPath [0x774C7A6E+238]\n"
     ]
    }
   ],
   "source": [
    "driver = webdriver.Chrome(chrome_driver_path)\n",
    "driver.get('https://www.python.org/')\n",
    "doc = driver.find_element(By.CSS_SELECTOR, 'download-widget')\n",
    "# doc = driver.find_element_by_css_selector('.download-widget a')\n",
    "print(doc)\n",
    "driver.quit()"
   ]
  },
  {
   "cell_type": "code",
   "execution_count": 12,
   "metadata": {},
   "outputs": [
    {
     "name": "stderr",
     "output_type": "stream",
     "text": [
      "C:\\Users\\jdamodhar\\AppData\\Local\\Temp\\ipykernel_24512\\2562086893.py:1: DeprecationWarning: executable_path has been deprecated, please pass in a Service object\n",
      "  driver = webdriver.Chrome(chrome_driver_path)\n"
     ]
    },
    {
     "name": "stdout",
     "output_type": "stream",
     "text": [
      "Submit Website Bug\n"
     ]
    }
   ],
   "source": [
    "driver = webdriver.Chrome(chrome_driver_path)\n",
    "driver.get('https://www.python.org/')\n",
    "doc = driver.find_element(By.XPATH, '//*[@id=\"site-map\"]/div[2]/div/ul/li[3]/a')\n",
    "# doc = driver.find_element_by_css_selector('.download-widget a')\n",
    "print(doc.text)\n",
    "driver.quit()"
   ]
  },
  {
   "cell_type": "code",
   "execution_count": null,
   "metadata": {},
   "outputs": [],
   "source": [
    "driver = webdriver.Chrome(chrome_driver_path)\n",
    "driver.get('https://www.python.org/')\n",
    "doc = driver.find_element(By.XPATH, '//*[@id=\"site-map\"]/div[2]/div/ul/li[3]/a')\n",
    "# doc = driver.find_element_by_css_selector('.download-widget a')\n",
    "print(doc.text)\n",
    "driver.quit()"
   ]
  },
  {
   "cell_type": "code",
   "execution_count": 17,
   "metadata": {},
   "outputs": [
    {
     "name": "stderr",
     "output_type": "stream",
     "text": [
      "C:\\Users\\jdamodhar\\AppData\\Local\\Temp\\ipykernel_24512\\150891183.py:1: DeprecationWarning: executable_path has been deprecated, please pass in a Service object\n",
      "  driver = webdriver.Chrome(chrome_driver_path)\n"
     ]
    },
    {
     "name": "stdout",
     "output_type": "stream",
     "text": [
      "2022-09-21\n",
      "2022-09-21\n",
      "2022-09-24\n",
      "2022-09-26\n",
      "2022-09-26\n"
     ]
    }
   ],
   "source": [
    "driver = webdriver.Chrome(chrome_driver_path)\n",
    "driver.get('https://www.python.org/')\n",
    "event_time = driver.find_elements(By.CSS_SELECTOR, '.event-widget time' )\n",
    "# doc = driver.find_element_by_css_selector('.download-widget a')\n",
    "for time in event_time:\n",
    "    print(time.text)\n",
    "\n",
    "driver.quit()"
   ]
  },
  {
   "cell_type": "code",
   "execution_count": 18,
   "metadata": {},
   "outputs": [
    {
     "name": "stderr",
     "output_type": "stream",
     "text": [
      "C:\\Users\\jdamodhar\\AppData\\Local\\Temp\\ipykernel_24512\\480787088.py:1: DeprecationWarning: executable_path has been deprecated, please pass in a Service object\n",
      "  driver = webdriver.Chrome(chrome_driver_path)\n"
     ]
    },
    {
     "name": "stdout",
     "output_type": "stream",
     "text": [
      "DjangoCon Europe 2022\n",
      "An applied introduction to Finite State Machines\n",
      "PyCon Portugal 2022\n",
      "Scikit-learn Sprint Salta AR 2022\n",
      "Jupyter Sprint\n"
     ]
    }
   ],
   "source": [
    "driver = webdriver.Chrome(chrome_driver_path)\n",
    "driver.get('https://www.python.org/')\n",
    "event_name = driver.find_elements(By.CSS_SELECTOR, '.event-widget li a' )\n",
    "for name in event_name:\n",
    "    print(name.text)\n",
    "\n",
    "driver.quit()"
   ]
  },
  {
   "cell_type": "code",
   "execution_count": 20,
   "metadata": {},
   "outputs": [
    {
     "name": "stderr",
     "output_type": "stream",
     "text": [
      "C:\\Users\\jdamodhar\\AppData\\Local\\Temp\\ipykernel_24512\\3830989903.py:1: DeprecationWarning: executable_path has been deprecated, please pass in a Service object\n",
      "  driver = webdriver.Chrome(chrome_driver_path)\n"
     ]
    }
   ],
   "source": [
    "\n",
    "driver = webdriver.Chrome(chrome_driver_path)\n",
    "driver.get('https://www.python.org/')\n",
    "event_name = driver.find_elements(By.CSS_SELECTOR, '.event-widget li a' )\n",
    "event_time = driver.find_elements(By.CSS_SELECTOR, '.event-widget time' )\n",
    "\n",
    "events = {}\n",
    "for n in range(len(event_name)):\n",
    "    events[n] = {\n",
    "        \"time\": event_time[n].text,\n",
    "        \"name\": event_name[n].text\n",
    "    }\n",
    "driver.quit()"
   ]
  },
  {
   "cell_type": "code",
   "execution_count": 21,
   "metadata": {},
   "outputs": [
    {
     "data": {
      "text/plain": [
       "{0: {'time': '2022-09-21', 'name': 'DjangoCon Europe 2022'},\n",
       " 1: {'time': '2022-09-21',\n",
       "  'name': 'An applied introduction to Finite State Machines'},\n",
       " 2: {'time': '2022-09-24', 'name': 'PyCon Portugal 2022'},\n",
       " 3: {'time': '2022-09-26', 'name': 'Scikit-learn Sprint Salta AR 2022'},\n",
       " 4: {'time': '2022-09-26', 'name': 'Jupyter Sprint'}}"
      ]
     },
     "execution_count": 21,
     "metadata": {},
     "output_type": "execute_result"
    }
   ],
   "source": [
    "events"
   ]
  }
 ],
 "metadata": {
  "kernelspec": {
   "display_name": "Python 3.9.7 ('base')",
   "language": "python",
   "name": "python3"
  },
  "language_info": {
   "codemirror_mode": {
    "name": "ipython",
    "version": 3
   },
   "file_extension": ".py",
   "mimetype": "text/x-python",
   "name": "python",
   "nbconvert_exporter": "python",
   "pygments_lexer": "ipython3",
   "version": "3.9.7"
  },
  "orig_nbformat": 4,
  "vscode": {
   "interpreter": {
    "hash": "d63037db690493584af13c932001cbcec6e8d8f1b0fe914ec2418adc9d2150bb"
   }
  }
 },
 "nbformat": 4,
 "nbformat_minor": 2
}
