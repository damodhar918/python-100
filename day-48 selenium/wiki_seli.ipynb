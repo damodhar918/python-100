{
 "cells": [
  {
   "cell_type": "code",
   "execution_count": 12,
   "metadata": {},
   "outputs": [],
   "source": [
    "from selenium import webdriver\n",
    "import time\n",
    "from selenium.webdriver.common.by import By\n",
    "from selenium.webdriver.common.keys import Keys\n",
    "chrome_driver_path = r'C:\\Users\\jdamodhar\\Downloads\\chromedriver.exe'\n"
   ]
  },
  {
   "cell_type": "code",
   "execution_count": 4,
   "metadata": {},
   "outputs": [
    {
     "name": "stderr",
     "output_type": "stream",
     "text": [
      "C:\\Users\\jdamodhar\\AppData\\Local\\Temp\\ipykernel_18856\\3475550056.py:1: DeprecationWarning: executable_path has been deprecated, please pass in a Service object\n",
      "  driver = webdriver.Chrome(chrome_driver_path)\n"
     ]
    },
    {
     "name": "stdout",
     "output_type": "stream",
     "text": [
      "6,552,385\n"
     ]
    }
   ],
   "source": [
    "driver = webdriver.Chrome(chrome_driver_path)\n",
    "driver.get('https://en.wikipedia.org/wiki/Main_Page')\n",
    "article_count = driver.find_element(By.ID, 'articlecount')\n",
    "# 6,552,385 articles in English\n",
    "article_count = driver.find_element(By.CSS_SELECTOR, '#articlecount a')\n",
    "print(article_count.text)\n",
    "driver.quit()"
   ]
  },
  {
   "cell_type": "code",
   "execution_count": 9,
   "metadata": {},
   "outputs": [
    {
     "name": "stderr",
     "output_type": "stream",
     "text": [
      "C:\\Users\\jdamodhar\\AppData\\Local\\Temp\\ipykernel_18856\\1723130549.py:1: DeprecationWarning: executable_path has been deprecated, please pass in a Service object\n",
      "  driver = webdriver.Chrome(chrome_driver_path)\n"
     ]
    },
    {
     "name": "stdout",
     "output_type": "stream",
     "text": [
      "English\n"
     ]
    }
   ],
   "source": [
    "driver = webdriver.Chrome(chrome_driver_path)\n",
    "driver.get('https://en.wikipedia.org/wiki/Main_Page')\n",
    "article_count = driver.find_element(By.CSS_SELECTOR, '#articlecount a')\n",
    "# article_count.click()\n",
    "all_portals = driver.find_element(By.LINK_TEXT, 'English')\n",
    "print(all_portals.text)\n",
    "all_portals.click()\n",
    "driver.quit()"
   ]
  },
  {
   "cell_type": "code",
   "execution_count": 15,
   "metadata": {},
   "outputs": [
    {
     "name": "stderr",
     "output_type": "stream",
     "text": [
      "C:\\Users\\jdamodhar\\AppData\\Local\\Temp\\ipykernel_18856\\2395227258.py:1: DeprecationWarning: executable_path has been deprecated, please pass in a Service object\n",
      "  driver = webdriver.Chrome(chrome_driver_path)\n"
     ]
    },
    {
     "name": "stdout",
     "output_type": "stream",
     "text": [
      "There is a page named \"Python\" on Wikipedia\n"
     ]
    }
   ],
   "source": [
    "driver = webdriver.Chrome(chrome_driver_path)\n",
    "driver.get('https://en.wikipedia.org/wiki/Main_Page')\n",
    "search = driver.find_element(By.NAME, 'search')\n",
    "search.send_keys('Python')\n",
    "search.send_keys(Keys.ENTER)\n",
    "print(driver.find_element(By.CLASS_NAME, 'mw-search-exists').text)\n",
    "driver.quit()"
   ]
  },
  {
   "cell_type": "code",
   "execution_count": 17,
   "metadata": {},
   "outputs": [
    {
     "name": "stderr",
     "output_type": "stream",
     "text": [
      "C:\\Users\\jdamodhar\\AppData\\Local\\Temp\\ipykernel_18856\\2696587118.py:1: DeprecationWarning: executable_path has been deprecated, please pass in a Service object\n",
      "  driver = webdriver.Chrome(chrome_driver_path)\n"
     ]
    },
    {
     "name": "stdout",
     "output_type": "stream",
     "text": [
      "You've been successfully subscribed to the newsletter.\n"
     ]
    }
   ],
   "source": [
    "driver = webdriver.Chrome(chrome_driver_path)\n",
    "driver.get('http://secure-retreat-92358.herokuapp.com/')\n",
    "driver.find_element(By.NAME, 'fName').send_keys('Jangam')\n",
    "driver.find_element(By.NAME, 'lName').send_keys('Damodhar')\n",
    "driver.find_element(By.NAME, 'email').send_keys('damodhar918@outlook.com')\n",
    "submit = driver.find_element(By.CSS_SELECTOR, 'form button')\n",
    "submit.click()\n",
    "print(driver.find_element(By.CLASS_NAME, 'lead').text)\n",
    "driver.quit()\n"
   ]
  },
  {
   "cell_type": "code",
   "execution_count": null,
   "metadata": {},
   "outputs": [],
   "source": []
  }
 ],
 "metadata": {
  "kernelspec": {
   "display_name": "Python 3.9.7 ('base')",
   "language": "python",
   "name": "python3"
  },
  "language_info": {
   "codemirror_mode": {
    "name": "ipython",
    "version": 3
   },
   "file_extension": ".py",
   "mimetype": "text/x-python",
   "name": "python",
   "nbconvert_exporter": "python",
   "pygments_lexer": "ipython3",
   "version": "3.9.7"
  },
  "orig_nbformat": 4,
  "vscode": {
   "interpreter": {
    "hash": "d63037db690493584af13c932001cbcec6e8d8f1b0fe914ec2418adc9d2150bb"
   }
  }
 },
 "nbformat": 4,
 "nbformat_minor": 2
}
