{
 "cells": [
  {
   "cell_type": "code",
   "execution_count": 3,
   "metadata": {},
   "outputs": [
    {
     "name": "stdout",
     "output_type": "stream",
     "text": [
      "{'Dave': 95, 'Eleanor': 99, 'Freddie': 100}\n"
     ]
    }
   ],
   "source": [
    "import random\n",
    "\n",
    "\n",
    "names = ['Alex', 'Beth', 'Caroline', 'Dave', 'Eleanor', 'Freddie']\n",
    "student_scores = {student:random.randint(1, 100) for student in names}\n",
    "passed_students = {student:score for (student, score) in student_scores.items() if score >= 60}\n",
    "print(passed_students)"
   ]
  },
  {
   "cell_type": "code",
   "execution_count": 4,
   "metadata": {},
   "outputs": [
    {
     "data": {
      "text/plain": [
       "{'Monday': 53.6,\n",
       " 'Tuesday': 57.2,\n",
       " 'Friday': 69.8,\n",
       " 'Satarday': 71.6,\n",
       " 'Sunday': 75.2}"
      ]
     },
     "execution_count": 4,
     "metadata": {},
     "output_type": "execute_result"
    }
   ],
   "source": [
    "weather = {\n",
    "    \"Monday\": 12,\n",
    "    \"Tuesday\": 14,\n",
    "    \"Friday\": 21,\n",
    "    \"Satarday\": 22,\n",
    "    \"Sunday\": 24,       \n",
    "}\n",
    "\n",
    "{day:temp * 9/5 + 32 for (day, temp) in weather.items()}"
   ]
  },
  {
   "cell_type": "code",
   "execution_count": 7,
   "metadata": {},
   "outputs": [],
   "source": [
    "student_dict = {\n",
    "    \"student\" : ['Angle', 'Jenny', 'Peter', 'Sam', 'Alex', 'Emma'],\n",
    "    'Score' : [56, 76, 98, 78, 90, 56]\n",
    "}\n",
    "import pandas as pd\n",
    "student_dict_df = pd.DataFrame(student_dict)\n",
    "student_dict_df\n"
   ]
  },
  {
   "cell_type": "code",
   "execution_count": 6,
   "metadata": {},
   "outputs": [
    {
     "data": {
      "text/plain": [
       "[['Angle', 'Jenny', 'Peter', 'Sam', 'Alex', 'Emma'], [56, 76, 98, 78, 90, 56]]"
      ]
     },
     "execution_count": 6,
     "metadata": {},
     "output_type": "execute_result"
    }
   ],
   "source": [
    "[values for (key,values) in student_dict.items()]"
   ]
  },
  {
   "cell_type": "code",
   "execution_count": 11,
   "metadata": {},
   "outputs": [
    {
     "name": "stdout",
     "output_type": "stream",
     "text": [
      "56\n"
     ]
    }
   ],
   "source": [
    "#loop throuh roes of a dataframe\n",
    "for(index,row) in student_dict_df.iterrows():\n",
    "    # print(index,row.student,row.Score)\n",
    "    if row.student == 'Angle':\n",
    "        print(row.Score)"
   ]
  },
  {
   "cell_type": "code",
   "execution_count": null,
   "metadata": {},
   "outputs": [],
   "source": []
  },
  {
   "cell_type": "code",
   "execution_count": 13,
   "metadata": {},
   "outputs": [
    {
     "data": {
      "text/plain": [
       "{'Angle': 56, 'Jenny': 76, 'Peter': 98, 'Sam': 78, 'Alex': 90, 'Emma': 56}"
      ]
     },
     "execution_count": 13,
     "metadata": {},
     "output_type": "execute_result"
    }
   ],
   "source": [
    "{row.student:row.Score for(index,row) in student_dict_df.iterrows()}\n",
    "    # "
   ]
  },
  {
   "cell_type": "code",
   "execution_count": null,
   "metadata": {},
   "outputs": [],
   "source": []
  }
 ],
 "metadata": {
  "kernelspec": {
   "display_name": "Python 3.9.7 ('base')",
   "language": "python",
   "name": "python3"
  },
  "language_info": {
   "codemirror_mode": {
    "name": "ipython",
    "version": 3
   },
   "file_extension": ".py",
   "mimetype": "text/x-python",
   "name": "python",
   "nbconvert_exporter": "python",
   "pygments_lexer": "ipython3",
   "version": "3.9.7"
  },
  "orig_nbformat": 4,
  "vscode": {
   "interpreter": {
    "hash": "d63037db690493584af13c932001cbcec6e8d8f1b0fe914ec2418adc9d2150bb"
   }
  }
 },
 "nbformat": 4,
 "nbformat_minor": 2
}
