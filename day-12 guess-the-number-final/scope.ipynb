{
 "cells": [
  {
   "cell_type": "code",
   "execution_count": 1,
   "metadata": {},
   "outputs": [
    {
     "name": "stdout",
     "output_type": "stream",
     "text": [
      "enemies inside function: 2\n",
      "enemies outside function: 1\n"
     ]
    }
   ],
   "source": [
    "################### Scope ####################\n",
    "\n",
    "enemies = 1\n",
    "\n",
    "def increase_enemies():\n",
    "    enemies = 2\n",
    "    print(f\"enemies inside function: {enemies}\")\n",
    "\n",
    "increase_enemies()\n",
    "print(f\"enemies outside function: {enemies}\")"
   ]
  },
  {
   "cell_type": "code",
   "execution_count": 3,
   "metadata": {},
   "outputs": [
    {
     "name": "stdout",
     "output_type": "stream",
     "text": [
      "2\n"
     ]
    },
    {
     "ename": "NameError",
     "evalue": "name 'potion_strength' is not defined",
     "output_type": "error",
     "traceback": [
      "\u001b[1;31m---------------------------------------------------------------------------\u001b[0m",
      "\u001b[1;31mNameError\u001b[0m                                 Traceback (most recent call last)",
      "Cell \u001b[1;32mIn [3], line 8\u001b[0m\n\u001b[0;32m      5\u001b[0m     \u001b[38;5;28mprint\u001b[39m(potion_strength)\n\u001b[0;32m      7\u001b[0m drink_potion()\n\u001b[1;32m----> 8\u001b[0m \u001b[38;5;28mprint\u001b[39m(\u001b[43mpotion_strength\u001b[49m)\n",
      "\u001b[1;31mNameError\u001b[0m: name 'potion_strength' is not defined"
     ]
    }
   ],
   "source": [
    "# Local Scope\n",
    "\n",
    "def drink_potion():\n",
    "    potion_strength = 2\n",
    "    print(potion_strength)\n",
    "\n",
    "drink_potion()\n",
    "print(potion_strength)"
   ]
  },
  {
   "cell_type": "code",
   "execution_count": 6,
   "metadata": {},
   "outputs": [
    {
     "name": "stdout",
     "output_type": "stream",
     "text": [
      "12\n",
      "12\n"
     ]
    }
   ],
   "source": [
    "# Global Scope\n",
    "player_health = 10\n",
    "\n",
    "def game():\n",
    "    def drink_potion():\n",
    "        global player_health\n",
    "        potion_strength = 2\n",
    "        player_health+=potion_strength\n",
    "        print(player_health)\n",
    "\n",
    "    drink_potion()\n",
    "game()\n",
    "print(player_health)"
   ]
  },
  {
   "cell_type": "code",
   "execution_count": 9,
   "metadata": {},
   "outputs": [
    {
     "name": "stdout",
     "output_type": "stream",
     "text": [
      "Skeleton\n"
     ]
    }
   ],
   "source": [
    "\n",
    "# There is no Block Scope\n",
    "\n",
    "game_level = 3\n",
    "\n",
    "def create_enemy():\n",
    "    enemies = [\"Skeleton\", \"Zombie\", \"Alien\"]\n",
    "    if game_level < 5:\n",
    "        new_enemy = enemies[0]\n",
    "\n",
    "    print(new_enemy)\n",
    "create_enemy()"
   ]
  },
  {
   "cell_type": "code",
   "execution_count": null,
   "metadata": {},
   "outputs": [],
   "source": []
  },
  {
   "cell_type": "code",
   "execution_count": 10,
   "metadata": {},
   "outputs": [
    {
     "name": "stdout",
     "output_type": "stream",
     "text": [
      "enemies inside function: 1\n",
      "enemies outside function: 2\n"
     ]
    }
   ],
   "source": [
    "# Modifying Global Scope\n",
    "\n",
    "enemies = 1\n",
    "\n",
    "def increase_enemies():\n",
    "    print(f\"enemies inside function: {enemies}\")\n",
    "    return enemies + 1\n",
    "\n",
    "enemies = increase_enemies()\n",
    "print(f\"enemies outside function: {enemies}\")\n",
    "\n",
    "#Global Constants\n",
    "\n",
    "PI = 3.14159\n",
    "URL = \"https://www.google.com\"\n",
    "TWITTER_HANDLE = \"@yu_angela\"\n",
    "\n"
   ]
  }
 ],
 "metadata": {
  "kernelspec": {
   "display_name": "Python 3.9.7 ('base')",
   "language": "python",
   "name": "python3"
  },
  "language_info": {
   "codemirror_mode": {
    "name": "ipython",
    "version": 3
   },
   "file_extension": ".py",
   "mimetype": "text/x-python",
   "name": "python",
   "nbconvert_exporter": "python",
   "pygments_lexer": "ipython3",
   "version": "3.9.7"
  },
  "orig_nbformat": 4,
  "vscode": {
   "interpreter": {
    "hash": "d63037db690493584af13c932001cbcec6e8d8f1b0fe914ec2418adc9d2150bb"
   }
  }
 },
 "nbformat": 4,
 "nbformat_minor": 2
}
