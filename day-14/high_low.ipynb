{
 "cells": [
  {
   "cell_type": "code",
   "execution_count": 10,
   "metadata": {},
   "outputs": [],
   "source": [
    "from art import logo, vs\n",
    "from game_data import data\n",
    "import random\n",
    "# from os import system, name\n",
    "from turtle import clear\n",
    "from IPython.display import clear_output\n"
   ]
  },
  {
   "cell_type": "code",
   "execution_count": 15,
   "metadata": {},
   "outputs": [],
   "source": [
    "\n",
    "def pickProfile(data):\n",
    "    \"\"\"\n",
    "    Purpose: data\n",
    "    \"\"\"\n",
    "    value = random.choice(data)\n",
    "    data.remove(value)\n",
    "    return [value, data]\n",
    "\n",
    "def getProfileString(profile, side):\n",
    "    \"\"\"\n",
    "    Purpose: \n",
    "    \"\"\"\n",
    "    return f\"Compare {side}: {profile['name']}, a {profile['description']}, from {profile['country']}\"\n",
    "\n",
    "def declearResults(score):\n",
    "    clear_output(wait=True)\n",
    "    clear()\n",
    "    print(logo)\n",
    "        "
   ]
  },
  {
   "cell_type": "code",
   "execution_count": 16,
   "metadata": {},
   "outputs": [],
   "source": [
    "\n",
    "def game(data):\n",
    "    \"\"\" Purpose: Run game \"\"\"\n",
    "    target = len(data)\n",
    "    sideA,data = pickProfile(data)\n",
    "    score=0\n",
    "    while True: \n",
    "        declearResults(score)\n",
    "        if score == target:\n",
    "            print(\"Your score is 100%\")\n",
    "        elif score :   \n",
    "            print(f\"You're Right! Current score: {score}\")  \n",
    "        sideB,data = pickProfile(data)\n",
    "        print(f\"{getProfileString(sideA, 'A')}\\n{vs}\\n{getProfileString(sideB, 'B')}\") \n",
    "        ip = input().lower()\n",
    "        while  ip  not in ['a', 'b']:\n",
    "            print(f\"Please provide valid input A or B\")\n",
    "            ip = input().lower()\n",
    "        if sideA['follower_count'] >= sideB['follower_count']:\n",
    "            if ip == 'a':\n",
    "                score += 1\n",
    "                sideA = sideB\n",
    "            else:\n",
    "                declearResults(score)\n",
    "                print(f\"Sorry, that's wrong. Final score: {score}\")\n",
    "            \n",
    "                break\n",
    "        else:\n",
    "            if ip == 'b':\n",
    "                score += 1\n",
    "                sideA = sideB\n",
    "            else:\n",
    "                declearResults(score)\n",
    "                print(f\"Sorry, that's wrong. Final score: {score}\")\n",
    "                \n",
    "                break\n",
    "        "
   ]
  },
  {
   "cell_type": "code",
   "execution_count": 17,
   "metadata": {},
   "outputs": [
    {
     "name": "stdout",
     "output_type": "stream",
     "text": [
      "\n",
      "    __  ___       __             \n",
      "   / / / (_)___ _/ /_  ___  _____\n",
      "  / /_/ / / __ `/ __ \\/ _ \\/ ___/\n",
      " / __  / / /_/ / / / /  __/ /    \n",
      "/_/ ///_/\\__, /_/ /_/\\___/_/     \n",
      "   / /  /____/_      _____  _____\n",
      "  / /   / __ \\ | /| / / _ \\/ ___/\n",
      " / /___/ /_/ / |/ |/ /  __/ /    \n",
      "/_____/\\____/|__/|__/\\___/_/     \n",
      "\n",
      "Sorry, that's wrong. Final score: 1\n"
     ]
    }
   ],
   "source": [
    "game(data)"
   ]
  },
  {
   "cell_type": "code",
   "execution_count": 2,
   "metadata": {},
   "outputs": [
    {
     "name": "stdout",
     "output_type": "stream",
     "text": [
      "First day of prev month: 2022-08-25\n",
      "Last day of prev month: 2022-01-07\n"
     ]
    }
   ],
   "source": [
    "from datetime import date, timedelta\n",
    "\n",
    "last_day_of_prev_month = date.today().replace(month=1) - timedelta(days=1)\n",
    "\n",
    "start_day_of_prev_month = date.today().replace(day=1) - timedelta(days=last_day_of_prev_month.day)\n",
    "\n",
    "# For printing results\n",
    "print(\"First day of prev month:\", start_day_of_prev_month)\n",
    "print(\"Last day of prev month:\", last_day_of_prev_month)"
   ]
  },
  {
   "cell_type": "code",
   "execution_count": 7,
   "metadata": {},
   "outputs": [
    {
     "name": "stdout",
     "output_type": "stream",
     "text": [
      "31 28 31 30 31 30 31 31 30 31 30 31 "
     ]
    },
    {
     "data": {
      "text/plain": [
       "[None, None, None, None, None, None, None, None, None, None, None, None]"
      ]
     },
     "execution_count": 7,
     "metadata": {},
     "output_type": "execute_result"
    }
   ],
   "source": [
    "import calendar\n",
    "from datetime import datetime \n",
    "date.today().replace()\n",
    "year = datetime.now().year\n",
    "month = datetime.now().month\n",
    "calendar.monthrange(year, month)[1]\n",
    "[print(calendar.monthrange(year, i )[1],end=' ') for i in range(1,13)]\n"
   ]
  },
  {
   "cell_type": "code",
   "execution_count": 10,
   "metadata": {},
   "outputs": [
    {
     "data": {
      "text/plain": [
       "datetime.timedelta(0)"
      ]
     },
     "execution_count": 10,
     "metadata": {},
     "output_type": "execute_result"
    }
   ],
   "source": [
    "import datetime\n",
    "from time import ctime\n",
    "\n",
    "date.today().year\n",
    "datetime.datetime.today()-datetime.datetime.today()\n"
   ]
  },
  {
   "cell_type": "code",
   "execution_count": null,
   "metadata": {},
   "outputs": [],
   "source": [
    "from art import logo, vs\n",
    "from game_data import data\n",
    "import random\n",
    "# from os import system, name\n",
    "from turtle import clear\n",
    "from IPython.display import clear_output\n",
    "\n",
    "\n",
    "def pickProfile(data):\n",
    "    \"\"\"\n",
    "    Purpose: data\n",
    "    \"\"\"\n",
    "    value = random.choice(data)\n",
    "    data.remove(value)\n",
    "    return [value, data]\n",
    "\n",
    "def getProfileString(profile, side):\n",
    "    \"\"\"\n",
    "    Purpose: \n",
    "    \"\"\"\n",
    "    return f\"Compare {side}: {profile['name']}, a {profile['description']}, from {profile['country']}\"\n",
    "\n",
    "def declearResults(score):\n",
    "    clear_output(wait=True)\n",
    "    clear()\n",
    "    print(logo)\n",
    "        "
   ]
  }
 ],
 "metadata": {
  "kernelspec": {
   "display_name": "Python 3.9.7 ('base')",
   "language": "python",
   "name": "python3"
  },
  "language_info": {
   "codemirror_mode": {
    "name": "ipython",
    "version": 3
   },
   "file_extension": ".py",
   "mimetype": "text/x-python",
   "name": "python",
   "nbconvert_exporter": "python",
   "pygments_lexer": "ipython3",
   "version": "3.9.7"
  },
  "orig_nbformat": 4,
  "vscode": {
   "interpreter": {
    "hash": "d63037db690493584af13c932001cbcec6e8d8f1b0fe914ec2418adc9d2150bb"
   }
  }
 },
 "nbformat": 4,
 "nbformat_minor": 2
}
