{
 "cells": [
  {
   "cell_type": "code",
   "execution_count": 16,
   "metadata": {},
   "outputs": [],
   "source": [
    "from art import logo, vs\n",
    "from game_data import data\n",
    "import random\n",
    "# from os import system, name\n",
    "from turtle import clear\n",
    "from IPython.display import clear_output\n"
   ]
  },
  {
   "cell_type": "code",
   "execution_count": 91,
   "metadata": {},
   "outputs": [],
   "source": [
    "def pickProfile(data):\n",
    "    \"\"\"\n",
    "    Purpose: data\n",
    "    \"\"\"\n",
    "    value = random.choice(data)\n",
    "    data.remove(value)\n",
    "    return [value, data]\n",
    "\n",
    "def getProfileString(profile, side):\n",
    "    \"\"\"\n",
    "    Purpose: \n",
    "    \"\"\"\n",
    "    return f\"Compare {side}: {profile['name']}, a {profile['description']}, from {profile['country']}\"\n"
   ]
  },
  {
   "cell_type": "code",
   "execution_count": 23,
   "metadata": {},
   "outputs": [],
   "source": [
    "\n",
    "def game(data):\n",
    "    \"\"\" Purpose: Run game \"\"\"\n",
    "    sideA,data = pickProfile(data)\n",
    "    entryToken = True\n",
    "    while input().lower() in ['a', 'b'] or entryToken: \n",
    "        entryToken = False \n",
    "        clear_output(wait=True)\n",
    "        clear()\n",
    "        print(logo)\n",
    "        sideB,data = pickProfile(data)\n",
    "        print(f\"{getProfileString(sideA, 'A')}\\n{vs}\\n{getProfileString(sideB, 'B')}\")\n",
    "        \n",
    "        \n",
    "        \n",
    "        \n",
    "        \n",
    "    else:\n",
    "        clear_output(wait=True)\n",
    "        clear()\n",
    "        print(logo)\n",
    "        print(\"Enter a valid input\")"
   ]
  },
  {
   "cell_type": "code",
   "execution_count": 24,
   "metadata": {},
   "outputs": [
    {
     "name": "stdout",
     "output_type": "stream",
     "text": [
      "\n",
      "    __  ___       __             \n",
      "   / / / (_)___ _/ /_  ___  _____\n",
      "  / /_/ / / __ `/ __ \\/ _ \\/ ___/\n",
      " / __  / / /_/ / / / /  __/ /    \n",
      "/_/ ///_/\\__, /_/ /_/\\___/_/     \n",
      "   / /  /____/_      _____  _____\n",
      "  / /   / __ \\ | /| / / _ \\/ ___/\n",
      " / /___/ /_/ / |/ |/ /  __/ /    \n",
      "/_____/\\____/|__/|__/\\___/_/     \n",
      "\n",
      "Enter a valid option\n"
     ]
    }
   ],
   "source": [
    "game(data)"
   ]
  },
  {
   "cell_type": "code",
   "execution_count": 7,
   "metadata": {},
   "outputs": [
    {
     "data": {
      "text/plain": [
       "'under'"
      ]
     },
     "execution_count": 7,
     "metadata": {},
     "output_type": "execute_result"
    }
   ],
   "source": [
    "'under'.lower()"
   ]
  },
  {
   "cell_type": "code",
   "execution_count": 41,
   "metadata": {},
   "outputs": [],
   "source": [
    "import calendar\n",
    "calendar.setfirstweekday(calendar.SUNDAY)"
   ]
  },
  {
   "cell_type": "code",
   "execution_count": 97,
   "metadata": {},
   "outputs": [
    {
     "name": "stdout",
     "output_type": "stream",
     "text": [
      "Sun Mon Tue Wed Thu Fri Sat\n"
     ]
    }
   ],
   "source": [
    "print(calendar.weekheader(3))"
   ]
  },
  {
   "cell_type": "code",
   "execution_count": 57,
   "metadata": {},
   "outputs": [
    {
     "name": "stdout",
     "output_type": "stream",
     "text": [
      "First day of prev month: 2022-08-25\n",
      "Last day of prev month: 2022-01-07\n"
     ]
    }
   ],
   "source": [
    "from datetime import date, timedelta\n",
    "\n",
    "last_day_of_prev_month = date.today().replace(month=1) - timedelta(days=1)\n",
    "\n",
    "start_day_of_prev_month = date.today().replace(day=1) - timedelta(days=last_day_of_prev_month.day)\n",
    "\n",
    "# For printing results\n",
    "print(\"First day of prev month:\", start_day_of_prev_month)\n",
    "print(\"Last day of prev month:\", last_day_of_prev_month)"
   ]
  },
  {
   "cell_type": "code",
   "execution_count": 55,
   "metadata": {},
   "outputs": [
    {
     "data": {
      "text/plain": [
       "datetime.date(2022, 9, 1)"
      ]
     },
     "execution_count": 55,
     "metadata": {},
     "output_type": "execute_result"
    }
   ],
   "source": [
    "date.today().replace()\n",
    "import calendar\n",
    "from datetime import datetime \n",
    "year = datetime.now().year\n",
    "month = datetime.now().month\n",
    "calendar.monthrange(year, month)[1]\n",
    "print(year,month,calendar.monthrange(year, month)[1])\n"
   ]
  },
  {
   "cell_type": "code",
   "execution_count": 102,
   "metadata": {},
   "outputs": [
    {
     "data": {
      "text/plain": [
       "9"
      ]
     },
     "execution_count": 102,
     "metadata": {},
     "output_type": "execute_result"
    }
   ],
   "source": [
    "datetime.now().month"
   ]
  },
  {
   "cell_type": "code",
   "execution_count": 94,
   "metadata": {},
   "outputs": [
    {
     "data": {
      "text/plain": [
       "'Thu Sep  8 17:35:48 2022'"
      ]
     },
     "execution_count": 94,
     "metadata": {},
     "output_type": "execute_result"
    }
   ],
   "source": [
    "import datetime\n",
    "from time import ctime\n",
    "\n",
    "date.today().year\n",
    "datetime.datetime.today()\n",
    "datetime.datetime.now().month\n"
   ]
  }
 ],
 "metadata": {
  "kernelspec": {
   "display_name": "Python 3.9.7 ('base')",
   "language": "python",
   "name": "python3"
  },
  "language_info": {
   "codemirror_mode": {
    "name": "ipython",
    "version": 3
   },
   "file_extension": ".py",
   "mimetype": "text/x-python",
   "name": "python",
   "nbconvert_exporter": "python",
   "pygments_lexer": "ipython3",
   "version": "3.9.7"
  },
  "orig_nbformat": 4,
  "vscode": {
   "interpreter": {
    "hash": "d63037db690493584af13c932001cbcec6e8d8f1b0fe914ec2418adc9d2150bb"
   }
  }
 },
 "nbformat": 4,
 "nbformat_minor": 2
}
