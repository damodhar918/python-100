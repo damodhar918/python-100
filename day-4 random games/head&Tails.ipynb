{
 "cells": [
  {
   "cell_type": "code",
   "execution_count": 1,
   "metadata": {},
   "outputs": [
    {
     "name": "stdout",
     "output_type": "stream",
     "text": [
      "Tails\n"
     ]
    }
   ],
   "source": [
    "import random\n",
    "random_side = random.randint(0, 1)\n",
    "if random_side :\n",
    "    print(\"Heads\")\n",
    "else:\n",
    "    print(\"Tails\")"
   ]
  },
  {
   "cell_type": "code",
   "execution_count": 1,
   "metadata": {},
   "outputs": [
    {
     "name": "stdout",
     "output_type": "stream",
     "text": [
      "['Delaware', 'Pennsylvania', 'New Jersey', 'Georgia', 'Connecticut', 'Massachusetts', 'Maryland', 'South Carolina', 'New Hampshire', 'Virginia', 'New York', 'North Carolina', 'Rhode Island', 'Vermont', 'Kentucky', 'Tennessee', 'Ohio', 'Louisiana', 'Indiana', 'Mississippi', 'Illinois', 'Alabama', 'Maine', 'Missouri', 'Arkansas', 'Michigan', 'Florida', 'Texas', 'Iowa', 'Wisconsin', 'California', 'Minnesota', 'Oregon', 'Kansas', 'West Virginia', 'Nevada', 'Nebraska', 'Colorado', 'North Dakota', 'South Dakota', 'Montana', 'Washington', 'Idaho', 'Wyoming', 'Utah', 'Oklahoma', 'New Mexico', 'Arizona', 'Alaska', 'Hawaii']\n"
     ]
    }
   ],
   "source": [
    "states_of_america = [\"Delaware\", \"Pennsylvania\", \"New Jersey\", \"Georgia\", \"Connecticut\", \"Massachusetts\", \"Maryland\", \"South Carolina\", \"New Hampshire\", \"Virginia\", \"New York\", \"North Carolina\", \"Rhode Island\", \"Vermont\", \"Kentucky\", \"Tennessee\", \"Ohio\", \"Louisiana\", \"Indiana\", \"Mississippi\", \"Illinois\", \"Alabama\", \"Maine\", \"Missouri\", \"Arkansas\", \"Michigan\", \"Florida\", \"Texas\", \"Iowa\", \"Wisconsin\", \"California\", \"Minnesota\", \"Oregon\", \"Kansas\", \"West Virginia\", \"Nevada\", \"Nebraska\", \"Colorado\", \"North Dakota\", \"South Dakota\", \"Montana\", \"Washington\", \"Idaho\", \"Wyoming\", \"Utah\", \"Oklahoma\", \"New Mexico\", \"Arizona\", \"Alaska\", \"Hawaii\"]\n",
    "\n",
    "print(states_of_america)\n",
    "\n",
    "\n",
    "dirty_dozen = [\"Strawberries\", \"Spinach\", \"Kale\", \"Nectarines\", \"Apples\", \"Grapes\", \"Peaches\", \"Cherries\", \"Pears\", \"Tomatoes\", \"Celery\", \"Potatoes\"]\n",
    "\n"
   ]
  },
  {
   "cell_type": "code",
   "execution_count": 2,
   "metadata": {},
   "outputs": [
    {
     "data": {
      "text/plain": [
       "'Strawberries'"
      ]
     },
     "execution_count": 2,
     "metadata": {},
     "output_type": "execute_result"
    }
   ],
   "source": [
    "dirty_dozen[0]"
   ]
  },
  {
   "cell_type": "code",
   "execution_count": 3,
   "metadata": {},
   "outputs": [
    {
     "name": "stdout",
     "output_type": "stream",
     "text": [
      "Actual String containing integers:  1 2 3 4 5 6 7 8\n",
      "Type of string:  <class 'str'>\n",
      "Converted string to list :  ['1', '2', '3', '4', '5', '6', '7', '8']\n",
      "List of integers :  [1, 2, 3, 4, 5, 6, 7, 8]\n"
     ]
    }
   ],
   "source": [
    "#string with integers sepated by spaces\n",
    "string1=\"1 2 3 4 5 6 7 8\"\n",
    "print(\"Actual String containing integers: \",string1)\n",
    "print(\"Type of string: \",type(string1))\n",
    " \n",
    "#converting the string into list of strings\n",
    "list1=list(string1.split())\n",
    "print(\"Converted string to list : \",list1)\n",
    " \n",
    "#typecasting the individual elements of the string list into integer using the map() method\n",
    "list2=list(map(int,list1))\n",
    "print(\"List of integers : \",list2)"
   ]
  },
  {
   "cell_type": "markdown",
   "metadata": {},
   "source": [
    "## Who's Paying\n",
    "\n",
    "# UPDATE\n",
    "We've moved away from repl.it for coding exercises.\n",
    "Check out the new exercises on Coding Rooms with automated submissions.\n",
    "\n",
    "Login to your Udemy course and head over to the link below to get the sign up link:\n",
    "\n",
    "[Click here](https://www.udemy.com/course/100-days-of-code/learn/lecture/17825914#questions)\n",
    "\n",
    "# Instructions\n",
    "\n",
    "You are going to write a program which will select a random name from a list of names. The person selected will have to pay for everybody's food bill. \n",
    "\n",
    "**Important**: You are not allowed to use the `choice()` function.\n",
    "\n",
    "**Line 8** splits the string `names_string` into individual names and puts them inside a **List** called `names`. For this to work, you must enter all the names as name followed by comma then space. e.g. name, name, name\n",
    "\n",
    "# Example Input\n",
    "\n",
    "```\n",
    "Angela, Ben, Jenny, Michael, Chloe\n",
    "```\n",
    "Note: notice that there is a space between the comma and the next name. \n",
    "# Example Output\n",
    "\n",
    "```\n",
    "Michael is going to buy the meal today!\n",
    "```\n",
    "\n",
    "\n",
    "# Hint\n",
    "\n",
    "1. You might need the help of the `len()` function.   \n",
    "\n",
    "[https://stackoverflow.com/questions/1712227/how-do-i-get-the-number-of-elements-in-a-list](https://stackoverflow.com/questions/1712227/how-do-i-get-the-number-of-elements-in-a-list)\n",
    "\n",
    "2. Remember that Lists start at index 0!\n",
    "\n",
    "# Solution\n",
    "\n",
    "[https://repl.it/@appbrewery/day-4-2-solution](https://repl.it/@appbrewery/day-4-2-solution)"
   ]
  },
  {
   "cell_type": "code",
   "execution_count": 14,
   "metadata": {},
   "outputs": [
    {
     "data": {
      "text/plain": [
       "'sdfs'"
      ]
     },
     "execution_count": 14,
     "metadata": {},
     "output_type": "execute_result"
    }
   ],
   "source": [
    "# Split string method\n",
    "import random\n",
    "names_string = input(\"Give me everybody's names, separated by a comma. \")\n",
    "names = names_string.split(\", \")\n",
    "# 🚨 Don't change the code above 👆\n",
    "\n",
    "#Write your code below this line 👇\n",
    "\n",
    "# print(names[0])\n",
    "names[random.randint(0,len(names)-1)]\n",
    "\n"
   ]
  },
  {
   "cell_type": "code",
   "execution_count": 34,
   "metadata": {},
   "outputs": [
    {
     "name": "stdout",
     "output_type": "stream",
     "text": [
      "Caroline is going to buy the meal today!\n"
     ]
    }
   ],
   "source": [
    "names = [\"Alex\", \"Beth\", \"Caroline\", \"Dave\", \"Eleanor\", \"Freddie\"]\n",
    "who_will_pay_today = random.choice(names)\n",
    "print(who_will_pay_today, \"is going to buy the meal today!\")\n",
    "\n"
   ]
  },
  {
   "cell_type": "markdown",
   "metadata": {},
   "source": [
    "## Treasure Map\n",
    "\n",
    "# UPDATE\n",
    "We've moved away from repl.it for coding exercises.\n",
    "Check out the new exercises on Coding Rooms with automated submissions.\n",
    "\n",
    "Login to your Udemy course and head over to the link below to get the sign up link:\n",
    "\n",
    "[Click here](https://www.udemy.com/course/100-days-of-code/learn/lecture/17825914#questions)\n",
    "\n",
    "![](https://cdn.fs.teachablecdn.com/wiFJAkZZSG2RpGsxYgDO)\n",
    "# Instructions\n",
    "\n",
    "You are going to write a program which will mark a spot with an X.\n",
    "\n",
    "In the starting code, you will find a variable called ```map```.\n",
    "\n",
    "This ```map``` contains a nested list.\n",
    "When ```map``` is printed this is what the nested list looks like:\n",
    "```\n",
    "['⬜️', '⬜️', '⬜️'],['⬜️', '⬜️', '⬜️'],['⬜️', '⬜️', '⬜️']\n",
    "```\n",
    "In the starting code, we have used new lines (```\\n```) to format the three rows into a square, like this:\n",
    "```\n",
    "['⬜️', '⬜️', '⬜️']\n",
    "['⬜️', '⬜️', '⬜️']\n",
    "['⬜️', '⬜️', '⬜️']\n",
    "```\n",
    "This is to try and simulate the coordinates on a real map. \n",
    "\n",
    "![](https://res.cloudinary.com/dk-find-out/image/upload/q_80,w_1440,f_auto/Co-ordinates_oggjzg.jpg)\n",
    "\n",
    "Your job is to write a program that allows you to mark a square on the map using a two-digit system. The first digit is the vertical column number and the second digit is the horizontal row number. e.g.:\n",
    "\n",
    "![](https://cdn.fs.teachablecdn.com/2vnboIYTFFruvl9FJ2w5)\n",
    "\n",
    "First your program must take the user input and convert it to a usable format. \n",
    "\n",
    "Next, you need to use it to update your nested list with an \"x\". \n",
    "\n",
    "# Example Input 1\n",
    "\n",
    "column 2, row 3 would be entered as:\n",
    "\n",
    "```\n",
    "23\n",
    "```\n",
    "\n",
    "# Example Output 1\n",
    "\n",
    "```\n",
    "['⬜️', '⬜️', '⬜️']\n",
    "\n",
    "['⬜️', '⬜️', '⬜️']\n",
    "\n",
    "['⬜️', 'X', '⬜️']\n",
    "```\n",
    "\n",
    "# Example Input 2\n",
    "\n",
    "column 3, row 1 would be entered as:\n",
    "\n",
    "```\n",
    "31\n",
    "```\n",
    "\n",
    "# Example Output 2\n",
    "\n",
    "```\n",
    "['⬜️', '⬜️', 'X']\n",
    "\n",
    "['⬜️', '⬜️', '⬜️']\n",
    "\n",
    "['⬜️', '⬜️', '⬜️']\n",
    "```\n",
    "\n",
    "e.g. When you hit **run**, this is what should happen: \n",
    "\n",
    "![](https://cdn.fs.teachablecdn.com/5hliFjyIR96LdestyfPd)\n",
    "\n",
    "# Hint\n",
    "\n",
    "1. Remember that Lists start at index 0!\n",
    "2. ```map``` is just a variable that contains a nested list. It's not related to the map function in Python.\n",
    "\n",
    "# Solution\n",
    "\n",
    "[https://repl.it/@appbrewery/day-4-3-solution](https://repl.it/@appbrewery/day-4-3-solution)"
   ]
  },
  {
   "cell_type": "code",
   "execution_count": 37,
   "metadata": {},
   "outputs": [
    {
     "name": "stdout",
     "output_type": "stream",
     "text": [
      "['😯', '😊', '😉']\n",
      "['😥', '😅', '🙄']\n",
      "['😛', '🤐', '😴']\n",
      "['😯', '😊', '😉']\n",
      "['😥', '😅', 'X']\n",
      "['😛', '🤐', '😴']\n"
     ]
    }
   ],
   "source": [
    "# 🚨 Don't change the code below 👇\n",
    "\n",
    "\n",
    "from select import select\n",
    "\n",
    "\n",
    "row1 = [\"😯\",\"😊\",\"😉\"]\n",
    "row2 = [\"😥\",\"😅\",\"🙄\"]\n",
    "row3 = [\"😛\",\"🤐\",\"😴\"]\n",
    "map = [row1, row2, row3]\n",
    "print(f\"{row1}\\n{row2}\\n{row3}\")\n",
    "position = input(\"Where do you want to put the treasure? \")\n",
    "# 🚨 Don't change the code above 👆\n",
    "\n",
    "#Write your code below this row 👇\n",
    "HORIZONTAL = int(position[0])\n",
    "VERTICAL = int(position[1])\n",
    "\n",
    "# print(map[VERTICAL-1][HORIZONTAL-1])\n",
    "selected_row = map[VERTICAL-1]\n",
    "selected_row[HORIZONTAL-1] = \"X\"\n",
    "\n",
    "\n",
    "\n",
    "#Write your code above this row 👆\n",
    "\n",
    "# 🚨 Don't change the code below 👇\n",
    "print(f\"{row1}\\n{row2}\\n{row3}\")"
   ]
  },
  {
   "cell_type": "markdown",
   "metadata": {},
   "source": [
    "## Rock Paper Scissors\n",
    "\n",
    "# Instructions\n",
    "\n",
    "Make a rock, paper, scissors game. \n",
    "\n",
    "Inside the `main.py` file, you'll find the ASCII art for the hand signals already saved to a corresponding variable: `rock`, `paper`, and `scissors`. This will make it easy to print them out to the console. \n",
    "\n",
    "Start the game by asking the player:\n",
    "\n",
    "*\"What do you choose? Type 0 for Rock, 1 for Paper or 2 for Scissors.\"*\n",
    "\n",
    "From there you will need to figure out: \n",
    "* How you will store the user's input.\n",
    "* How you will generate a random choice for the computer.\n",
    "* How you will compare the user's and the computer's choice to determine the winner (or a draw).\n",
    "* And also how you will give feedback to the player. \n",
    "\n",
    "You can find the \"official\" rules of the game on [the World Rock Paper Scissors Association website.](https://wrpsa.com/the-official-rules-of-rock-paper-scissors/)\n",
    "\n",
    "# Debugging challenge\n",
    "\n",
    "Try running this code and type `5`.\n",
    "\n",
    "It will give you an `IndexError` and point to line 32 as the issue. \n",
    "\n",
    "But on line 38 we are trying to prevent a crash by detecting any numbers great than or equal to 3 or less than 0.\n",
    "\n",
    "So what's going on? Can you debug the code and fix it?\n",
    "\n",
    "# Solution to the debugging challenge\n",
    "[https://repl.it/@appbrewery/rock-paper-scissors-debugged-end](https://repl.it/@appbrewery/rock-paper-scissors-debugged-end)\n"
   ]
  },
  {
   "cell_type": "code",
   "execution_count": 40,
   "metadata": {},
   "outputs": [
    {
     "name": "stdout",
     "output_type": "stream",
     "text": [
      "What do you choose? Type 0 for Rock, 1 for Paper or 2 for Scissors.\n",
      "\n",
      "\n",
      "    _______\n",
      "---'   ____)\n",
      "      (_____)\n",
      "      (_____)\n",
      "      (____)\n",
      "---.__(___)\n",
      "\n",
      "Computer chose:\n",
      "\n",
      "    _______\n",
      "---'   ____)\n",
      "      (_____)\n",
      "      (_____)\n",
      "      (____)\n",
      "---.__(___)\n",
      "\n",
      "It's a draw\n"
     ]
    }
   ],
   "source": [
    "import random\n",
    "\n",
    "rock = '''\n",
    "    _______\n",
    "---'   ____)\n",
    "      (_____)\n",
    "      (_____)\n",
    "      (____)\n",
    "---.__(___)\n",
    "'''\n",
    "\n",
    "paper = '''\n",
    "    _______\n",
    "---'   ____)____\n",
    "          ______)\n",
    "          _______)\n",
    "         _______)\n",
    "---.__________)\n",
    "'''\n",
    "\n",
    "scissors = '''\n",
    "    _______\n",
    "---'   ____)____\n",
    "          ______)\n",
    "       __________)\n",
    "      (____)\n",
    "---.__(___)\n",
    "'''\n",
    "\n",
    "game_images = [rock, paper, scissors]\n",
    "print(\"What do you choose? Type 0 for Rock, 1 for Paper or 2 for Scissors.\\n\")\n",
    "user_choice = int(input(\"What do you choose? Type 0 for Rock, 1 for Paper or 2 for Scissors.\\n\"))\n",
    "print(game_images[user_choice])\n",
    "\n",
    "computer_choice = random.randint(0, 2)\n",
    "print(\"Computer chose:\")\n",
    "print(game_images[computer_choice])\n",
    "\n",
    "if user_choice >= 3 or user_choice < 0: \n",
    "  print(\"You typed an invalid number, you lose!\") \n",
    "\n",
    "\n",
    "elif user_choice == 0 and computer_choice == 2:\n",
    "  print(\"You win!\")\n",
    "elif computer_choice == 0 and user_choice == 2:\n",
    "  print(\"You lose\")\n",
    "elif computer_choice > user_choice:\n",
    "  print(\"You lose\")\n",
    "elif user_choice > computer_choice:\n",
    "  print(\"You win!\")\n",
    "elif computer_choice == user_choice:\n",
    "  print(\"It's a draw\")\n",
    "\n",
    "####### Debugging challenge: #########\n",
    "#Try running this code and type 5.\n",
    "#It will give you an IndexError and point to line 32 as the issue.\n",
    "#But on line 38 we are trying to prevent a crash by detecting\n",
    "#any numbers great than or equal to 3 or less than 0.\n",
    "#So what's going on?\n",
    "#Can you debug the code and fix it?\n",
    "#Solution: https://repl.it/@appbrewery/rock-paper-scissors-debugged-end"
   ]
  }
 ],
 "metadata": {
  "kernelspec": {
   "display_name": "Python 3.9.7 ('base')",
   "language": "python",
   "name": "python3"
  },
  "language_info": {
   "codemirror_mode": {
    "name": "ipython",
    "version": 3
   },
   "file_extension": ".py",
   "mimetype": "text/x-python",
   "name": "python",
   "nbconvert_exporter": "python",
   "pygments_lexer": "ipython3",
   "version": "3.9.7"
  },
  "orig_nbformat": 4,
  "vscode": {
   "interpreter": {
    "hash": "d63037db690493584af13c932001cbcec6e8d8f1b0fe914ec2418adc9d2150bb"
   }
  }
 },
 "nbformat": 4,
 "nbformat_minor": 2
}
