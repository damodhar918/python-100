{
 "cells": [
  {
   "cell_type": "code",
   "execution_count": 10,
   "metadata": {},
   "outputs": [
    {
     "name": "stdout",
     "output_type": "stream",
     "text": [
      "2 add 3 = 5\n",
      "2 subtract 3 = -1\n",
      "2 multiply 3 = 6\n",
      "2 divide 3 = 0.6666666666666666\n"
     ]
    },
    {
     "data": {
      "text/plain": [
       "0.6666666666666666"
      ]
     },
     "execution_count": 10,
     "metadata": {},
     "output_type": "execute_result"
    }
   ],
   "source": [
    "## ********Day 54 Start**********\n",
    "## Functions can have inputs/functionality/output\n",
    "def add(n1, n2):\n",
    "    return n1 + n2\n",
    "\n",
    "def subtract(n1, n2):\n",
    "    return n1 - n2\n",
    "\n",
    "def multiply(n1, n2):\n",
    "    return n1 * n2\n",
    "\n",
    "def divide(n1, n2):\n",
    "    return n1 / n2\n",
    "\n",
    "##Functions are first-class objects, can be passed around as arguments e.g. int/string/float etc.\n",
    "\n",
    "def calculate(calc_function, n1, n2):\n",
    "    print(f'{n1} {calc_function.__name__} {n2} = {calc_function(n1, n2)}')\n",
    "    return calc_function(n1, n2)\n",
    "\n",
    "calculate(add, 2, 3)\n",
    "calculate(subtract, 2, 3)\n",
    "calculate(multiply, 2, 3)\n",
    "calculate(divide, 2, 3)"
   ]
  },
  {
   "cell_type": "code",
   "execution_count": 3,
   "metadata": {},
   "outputs": [
    {
     "name": "stdout",
     "output_type": "stream",
     "text": [
      "I'm outer\n",
      "I'm inner\n",
      "I'm outer\n"
     ]
    },
    {
     "data": {
      "text/plain": [
       "<function __main__.outer_function.<locals>.nested_function()>"
      ]
     },
     "execution_count": 3,
     "metadata": {},
     "output_type": "execute_result"
    }
   ],
   "source": [
    "\n",
    "##Functions can be nested in other functions\n",
    "\n",
    "def outer_function():\n",
    "    print(\"I'm outer\")\n",
    "\n",
    "    def nested_function():\n",
    "        print(\"I'm inner\")\n",
    "\n",
    "    nested_function()\n",
    "\n",
    "outer_function()\n",
    "\n",
    "## Functions can be returned from other functions\n",
    "def outer_function():\n",
    "    print(\"I'm outer\")\n",
    "\n",
    "    def nested_function():\n",
    "        print(\"I'm inner\")\n",
    "\n",
    "    return nested_function\n",
    "\n",
    "inner_function = outer_function()\n",
    "inner_function\n"
   ]
  },
  {
   "cell_type": "code",
   "execution_count": 5,
   "metadata": {},
   "outputs": [
    {
     "name": "stdout",
     "output_type": "stream",
     "text": [
      "How are you?\n",
      "How are you?\n"
     ]
    }
   ],
   "source": [
    "\n",
    "\n",
    "## Simple Python Decorator Functions\n",
    "import time\n",
    "\n",
    "def delay_decorator(function):\n",
    "    def wrapper_function():\n",
    "        time.sleep(2)\n",
    "        #Do something before\n",
    "        function()\n",
    "        function()\n",
    "        #Do something after\n",
    "    return wrapper_function\n",
    "\n",
    "@delay_decorator\n",
    "def say_hello():\n",
    "    print(\"Hello\")\n",
    "\n",
    "#With the @ syntactic sugar\n",
    "@delay_decorator\n",
    "def say_bye():\n",
    "    print(\"Bye\")\n",
    "\n",
    "#Without the @ syntactic sugar\n",
    "def say_greeting():\n",
    "    print(\"How are you?\")\n",
    "decorated_function = delay_decorator(say_greeting)\n",
    "decorated_function()\n",
    "\n"
   ]
  },
  {
   "cell_type": "code",
   "execution_count": 6,
   "metadata": {},
   "outputs": [
    {
     "name": "stdout",
     "output_type": "stream",
     "text": [
      "You called a_function(1, 2, 3)\n",
      "It returned: 6\n"
     ]
    }
   ],
   "source": [
    "def logging_decorator(fn):\n",
    "    def wrapper(*args, **kwargs):\n",
    "        print(f\"You called {fn.__name__}{args}\")\n",
    "        result = fn(args[0], args[1], args[2])\n",
    "        print(f\"It returned: {result}\")\n",
    "    return wrapper\n",
    "\n",
    "\n",
    "@logging_decorator\n",
    "def a_function(a, b, c):\n",
    "    return a * b * c\n",
    "    \n",
    "a_function(1, 2, 3)"
   ]
  }
 ],
 "metadata": {
  "kernelspec": {
   "display_name": "Python 3.9.7 64-bit",
   "language": "python",
   "name": "python3"
  },
  "language_info": {
   "codemirror_mode": {
    "name": "ipython",
    "version": 3
   },
   "file_extension": ".py",
   "mimetype": "text/x-python",
   "name": "python",
   "nbconvert_exporter": "python",
   "pygments_lexer": "ipython3",
   "version": "3.9.7"
  },
  "orig_nbformat": 4,
  "vscode": {
   "interpreter": {
    "hash": "557f885c07beaee117b25152f2011d9ed1b4fb2cc5c77aed6ffe0f2ea40ca6f2"
   }
  }
 },
 "nbformat": 4,
 "nbformat_minor": 2
}
