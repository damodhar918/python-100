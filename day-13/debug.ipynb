{
 "cells": [
  {
   "cell_type": "code",
   "execution_count": 9,
   "metadata": {},
   "outputs": [],
   "source": [
    "############DEBUGGING#####################\n",
    "\n",
    "# Describe Problem\n",
    "def my_function():\n",
    "  for i in range(1, 20):\n",
    "    if i == 20:\n",
    "      print(\"You got it\")\n",
    "my_function()\n",
    "\n"
   ]
  },
  {
   "cell_type": "code",
   "execution_count": 7,
   "metadata": {},
   "outputs": [
    {
     "name": "stdout",
     "output_type": "stream",
     "text": [
      "❺\n"
     ]
    }
   ],
   "source": [
    "# Reproduce the Bug\n",
    "from random import randint\n",
    "dice_imgs = [\"❶\", \"❷\", \"❸\", \"❹\", \"❺\", \"❻\"]\n",
    "dice_num = randint(1, 6)\n",
    "print(dice_imgs[dice_num])"
   ]
  },
  {
   "cell_type": "code",
   "execution_count": 5,
   "metadata": {},
   "outputs": [
    {
     "name": "stdout",
     "output_type": "stream",
     "text": [
      "You are a millenial.\n"
     ]
    }
   ],
   "source": [
    "# Play Computer\n",
    "year = int(input(\"What's your year of birth?\"))\n",
    "if year > 1980 and year < 1994:\n",
    "  print(\"You are a millenial.\")\n",
    "elif year > 1994:\n",
    "  print(\"You are a Gen Z.\")\n"
   ]
  },
  {
   "cell_type": "code",
   "execution_count": 4,
   "metadata": {},
   "outputs": [
    {
     "ename": "TypeError",
     "evalue": "'>' not supported between instances of 'str' and 'int'",
     "output_type": "error",
     "traceback": [
      "\u001b[1;31m---------------------------------------------------------------------------\u001b[0m",
      "\u001b[1;31mTypeError\u001b[0m                                 Traceback (most recent call last)",
      "Cell \u001b[1;32mIn [4], line 3\u001b[0m\n\u001b[0;32m      1\u001b[0m \u001b[38;5;66;03m# Fix the Errors\u001b[39;00m\n\u001b[0;32m      2\u001b[0m age \u001b[38;5;241m=\u001b[39m \u001b[38;5;28minput\u001b[39m(\u001b[38;5;124m\"\u001b[39m\u001b[38;5;124mHow old are you?\u001b[39m\u001b[38;5;124m\"\u001b[39m)\n\u001b[1;32m----> 3\u001b[0m \u001b[38;5;28;01mif\u001b[39;00m \u001b[43mage\u001b[49m\u001b[43m \u001b[49m\u001b[38;5;241;43m>\u001b[39;49m\u001b[43m \u001b[49m\u001b[38;5;241;43m18\u001b[39;49m:\n\u001b[0;32m      4\u001b[0m     \u001b[38;5;28mprint\u001b[39m(\u001b[38;5;124m\"\u001b[39m\u001b[38;5;124mYou can drive at age \u001b[39m\u001b[38;5;132;01m{age}\u001b[39;00m\u001b[38;5;124m.\u001b[39m\u001b[38;5;124m\"\u001b[39m)\n",
      "\u001b[1;31mTypeError\u001b[0m: '>' not supported between instances of 'str' and 'int'"
     ]
    }
   ],
   "source": [
    "# Fix the Errors\n",
    "age = input(\"How old are you?\")\n",
    "if age > 18:\n",
    "    print(\"You can drive at age {age}.\")\n"
   ]
  },
  {
   "cell_type": "code",
   "execution_count": 2,
   "metadata": {},
   "outputs": [
    {
     "name": "stdout",
     "output_type": "stream",
     "text": [
      "0\n"
     ]
    }
   ],
   "source": [
    "#Print is Your Friend\n",
    "pages = 0\n",
    "word_per_page = 0\n",
    "pages = int(input(\"Number of pages: \"))\n",
    "word_per_page == int(input(\"Number of words per page: \"))\n",
    "total_words = pages * word_per_page\n",
    "print(total_words)\n"
   ]
  },
  {
   "cell_type": "code",
   "execution_count": 1,
   "metadata": {},
   "outputs": [
    {
     "name": "stdout",
     "output_type": "stream",
     "text": [
      "[26]\n"
     ]
    }
   ],
   "source": [
    "#Use a Debugger\n",
    "def mutate(a_list):\n",
    "  b_list = []\n",
    "  for item in a_list:\n",
    "    new_item = item * 2\n",
    "  b_list.append(new_item)\n",
    "  print(b_list)\n",
    "\n",
    "mutate([1,2,3,5,8,13])"
   ]
  },
  {
   "cell_type": "markdown",
   "metadata": {},
   "source": [
    "## Debug FizzBuzz\n",
    "\n",
    "# UPDATE\n",
    "We've moved away from repl.it for coding exercises.\n",
    "Check out the new exercises on Coding Rooms with automated submissions.\n",
    "\n",
    "Login to your Udemy course and head over to the link below to get the sign up link:\n",
    "\n",
    "[Click here](https://www.udemy.com/course/100-days-of-code/learn/lecture/17825914#questions)\n",
    "\n",
    "# Instructions\n",
    "\n",
    "- Read this the code in main.py\n",
    "- Spot the problems 🐞. \n",
    "- Modify the code to fix the program. \n",
    "- No shortcuts  - don't copy-paste to replace the code entirely with a working solution. \n",
    "\n",
    "The code needs to print the solution to the FizzBuzz game. \n",
    "\n",
    "> `Your program should print each number from 1 to 100 in turn.` \n",
    "\n",
    ">   `When the number is divisible by 3 then instead of printing the number it should print \"Fizz\".` \n",
    "\n",
    ">     `When the number is divisible by 5, then instead of printing the number it should print \"Buzz\".` \n",
    "\n",
    ">       `And if the number is divisible by both 3 and 5 e.g. 15 then instead of the number it should print \"FizzBuzz\"`\n",
    "\n",
    "# Hint\n",
    "\n",
    "There is more than one fix required.\n",
    "\n",
    "# Solution\n",
    "\n",
    "[https://repl.it/@appbrewery/day-13-3-solution](https://repl.it/@appbrewery/day-13-3-solution)\n",
    "\n"
   ]
  },
  {
   "cell_type": "code",
   "execution_count": 11,
   "metadata": {},
   "outputs": [
    {
     "name": "stdout",
     "output_type": "stream",
     "text": [
      "[1]\n",
      "[2]\n",
      "Fizz\n",
      "[3]\n",
      "[4]\n",
      "Buzz\n",
      "Fizz\n",
      "[6]\n",
      "[7]\n",
      "[8]\n",
      "Fizz\n",
      "[9]\n",
      "Buzz\n",
      "[11]\n",
      "Fizz\n",
      "[12]\n",
      "[13]\n",
      "[14]\n",
      "FizzBuzz\n",
      "Fizz\n",
      "Buzz\n",
      "[16]\n",
      "[17]\n",
      "Fizz\n",
      "[18]\n",
      "[19]\n",
      "Buzz\n",
      "Fizz\n",
      "[21]\n",
      "[22]\n",
      "[23]\n",
      "Fizz\n",
      "[24]\n",
      "Buzz\n",
      "[26]\n",
      "Fizz\n",
      "[27]\n",
      "[28]\n",
      "[29]\n",
      "FizzBuzz\n",
      "Fizz\n",
      "Buzz\n",
      "[31]\n",
      "[32]\n",
      "Fizz\n",
      "[33]\n",
      "[34]\n",
      "Buzz\n",
      "Fizz\n",
      "[36]\n",
      "[37]\n",
      "[38]\n",
      "Fizz\n",
      "[39]\n",
      "Buzz\n",
      "[41]\n",
      "Fizz\n",
      "[42]\n",
      "[43]\n",
      "[44]\n",
      "FizzBuzz\n",
      "Fizz\n",
      "Buzz\n",
      "[46]\n",
      "[47]\n",
      "Fizz\n",
      "[48]\n",
      "[49]\n",
      "Buzz\n",
      "Fizz\n",
      "[51]\n",
      "[52]\n",
      "[53]\n",
      "Fizz\n",
      "[54]\n",
      "Buzz\n",
      "[56]\n",
      "Fizz\n",
      "[57]\n",
      "[58]\n",
      "[59]\n",
      "FizzBuzz\n",
      "Fizz\n",
      "Buzz\n",
      "[61]\n",
      "[62]\n",
      "Fizz\n",
      "[63]\n",
      "[64]\n",
      "Buzz\n",
      "Fizz\n",
      "[66]\n",
      "[67]\n",
      "[68]\n",
      "Fizz\n",
      "[69]\n",
      "Buzz\n",
      "[71]\n",
      "Fizz\n",
      "[72]\n",
      "[73]\n",
      "[74]\n",
      "FizzBuzz\n",
      "Fizz\n",
      "Buzz\n",
      "[76]\n",
      "[77]\n",
      "Fizz\n",
      "[78]\n",
      "[79]\n",
      "Buzz\n",
      "Fizz\n",
      "[81]\n",
      "[82]\n",
      "[83]\n",
      "Fizz\n",
      "[84]\n",
      "Buzz\n",
      "[86]\n",
      "Fizz\n",
      "[87]\n",
      "[88]\n",
      "[89]\n",
      "FizzBuzz\n",
      "Fizz\n",
      "Buzz\n",
      "[91]\n",
      "[92]\n",
      "Fizz\n",
      "[93]\n",
      "[94]\n",
      "Buzz\n",
      "Fizz\n",
      "[96]\n",
      "[97]\n",
      "[98]\n",
      "Fizz\n",
      "[99]\n",
      "Buzz\n"
     ]
    }
   ],
   "source": [
    "for number in range(1, 101):\n",
    "  if number % 3 == 0 and number % 5 == 0:\n",
    "    print(\"FizzBuzz\")\n",
    "  if number % 3 == 0:\n",
    "    print(\"Fizz\")\n",
    "  if number % 5 == 0:\n",
    "    print(\"Buzz\")\n",
    "  else:\n",
    "    print([number])"
   ]
  },
  {
   "cell_type": "code",
   "execution_count": 14,
   "metadata": {},
   "outputs": [
    {
     "ename": "TypeError",
     "evalue": "not all arguments converted during string formatting",
     "output_type": "error",
     "traceback": [
      "\u001b[1;31m---------------------------------------------------------------------------\u001b[0m",
      "\u001b[1;31mTypeError\u001b[0m                                 Traceback (most recent call last)",
      "Cell \u001b[1;32mIn [14], line 3\u001b[0m\n\u001b[0;32m      1\u001b[0m year \u001b[38;5;241m=\u001b[39m (\u001b[38;5;28minput\u001b[39m(\u001b[38;5;124m\"\u001b[39m\u001b[38;5;124mWhich year do you want to check?\u001b[39m\u001b[38;5;124m\"\u001b[39m))\n\u001b[1;32m----> 3\u001b[0m \u001b[38;5;28;01mif\u001b[39;00m \u001b[43myear\u001b[49m\u001b[43m \u001b[49m\u001b[38;5;241;43m%\u001b[39;49m\u001b[43m \u001b[49m\u001b[38;5;241;43m4\u001b[39;49m \u001b[38;5;241m==\u001b[39m \u001b[38;5;241m0\u001b[39m:\n\u001b[0;32m      4\u001b[0m   \u001b[38;5;28;01mif\u001b[39;00m year \u001b[38;5;241m%\u001b[39m \u001b[38;5;241m100\u001b[39m \u001b[38;5;241m==\u001b[39m \u001b[38;5;241m0\u001b[39m:\n\u001b[0;32m      5\u001b[0m     \u001b[38;5;28;01mif\u001b[39;00m year \u001b[38;5;241m%\u001b[39m \u001b[38;5;241m400\u001b[39m \u001b[38;5;241m==\u001b[39m \u001b[38;5;241m0\u001b[39m:\n",
      "\u001b[1;31mTypeError\u001b[0m: not all arguments converted during string formatting"
     ]
    }
   ],
   "source": [
    "year = (input(\"Which year do you want to check?\"))\n",
    "\n",
    "if year % 4 == 0:\n",
    "  if year % 100 == 0:\n",
    "    if year % 400 == 0:\n",
    "      print(\"Leap year.\")\n",
    "    else:\n",
    "      print(\"Not leap year.\")\n",
    "  else:\n",
    "    print(\"Leap year.\")\n",
    "else:\n",
    "  print(\"Not leap year.\")"
   ]
  },
  {
   "cell_type": "code",
   "execution_count": 17,
   "metadata": {},
   "outputs": [
    {
     "ename": "SyntaxError",
     "evalue": "invalid syntax (781260547.py, line 3)",
     "output_type": "error",
     "traceback": [
      "\u001b[1;36m  Cell \u001b[1;32mIn [17], line 3\u001b[1;36m\u001b[0m\n\u001b[1;33m    if number % 2 = 0:\u001b[0m\n\u001b[1;37m                  ^\u001b[0m\n\u001b[1;31mSyntaxError\u001b[0m\u001b[1;31m:\u001b[0m invalid syntax\n"
     ]
    }
   ],
   "source": [
    "number = int(input(\"Which number do you want to check?\"))\n",
    "\n",
    "if number % 2 = 0:\n",
    "  print(\"This is an even number.\")\n",
    "else:\n",
    "  print(\"This is an odd number.\")\n",
    "  \n"
   ]
  }
 ],
 "metadata": {
  "kernelspec": {
   "display_name": "Python 3.9.7 ('base')",
   "language": "python",
   "name": "python3"
  },
  "language_info": {
   "codemirror_mode": {
    "name": "ipython",
    "version": 3
   },
   "file_extension": ".py",
   "mimetype": "text/x-python",
   "name": "python",
   "nbconvert_exporter": "python",
   "pygments_lexer": "ipython3",
   "version": "3.9.7"
  },
  "orig_nbformat": 4,
  "vscode": {
   "interpreter": {
    "hash": "d63037db690493584af13c932001cbcec6e8d8f1b0fe914ec2418adc9d2150bb"
   }
  }
 },
 "nbformat": 4,
 "nbformat_minor": 2
}
