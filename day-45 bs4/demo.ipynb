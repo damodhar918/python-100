{
 "cells": [
  {
   "cell_type": "code",
   "execution_count": 2,
   "metadata": {},
   "outputs": [
    {
     "name": "stdout",
     "output_type": "stream",
     "text": [
      "Angela's Personal Site\n",
      "[<h3 class=\"heading\">Books and Teaching</h3>, <h3 class=\"heading\">Other Pages</h3>]\n",
      "name:  <h1 id=\"name\">Angela Yu</h1>\n"
     ]
    }
   ],
   "source": [
    "from bs4 import BeautifulSoup\n",
    "# import lxml\n",
    "# import codecs\n",
    "\n",
    "path = r'C:\\Users\\jdamodhar\\Desktop\\python_essential-\\python-100\\day-45 bs4\\website.html'\n",
    "with open(path,encoding='utf-8') as file:\n",
    "    contents = file.read()\n",
    "soup = BeautifulSoup(contents, \"html.parser\")   \n",
    "print(soup.title.text)\n",
    "\n",
    "h3_heading = soup.find_all(name=\"h3\", class_=\"heading\")\n",
    "print(h3_heading)\n",
    "\n",
    "name = soup.select_one(selector=\"#name\")\n",
    "print('name: ', name)\n"
   ]
  },
  {
   "cell_type": "code",
   "execution_count": 3,
   "metadata": {},
   "outputs": [
    {
     "name": "stdout",
     "output_type": "stream",
     "text": [
      "heaging:  <h3 class=\"heading\">Books and Teaching</h3>\n"
     ]
    }
   ],
   "source": [
    "heaging = soup.select_one(selector=\".heading\")\n",
    "print('heaging: ', heaging)\n"
   ]
  },
  {
   "cell_type": "code",
   "execution_count": 6,
   "metadata": {},
   "outputs": [
    {
     "name": "stdout",
     "output_type": "stream",
     "text": [
      "class_is_heading:  [<h3 class=\"heading\">Books and Teaching</h3>, <h3 class=\"heading\">Other Pages</h3>]\n"
     ]
    }
   ],
   "source": [
    "class_is_heading = soup.find_all(class_=\"heading\")\n",
    "print('class_is_heading: ', class_is_heading)\n"
   ]
  },
  {
   "cell_type": "code",
   "execution_count": 7,
   "metadata": {},
   "outputs": [
    {
     "name": "stdout",
     "output_type": "stream",
     "text": [
      "section_heading:  <h3 class=\"heading\">Books and Teaching</h3>\n"
     ]
    }
   ],
   "source": [
    "section_heading = soup.find(name='h3',class_=\"heading\")\n",
    "print('section_heading: ', section_heading)"
   ]
  },
  {
   "cell_type": "code",
   "execution_count": 9,
   "metadata": {},
   "outputs": [
    {
     "name": "stdout",
     "output_type": "stream",
     "text": [
      "all_anchor_tags:  [<a href=\"https://www.appbrewery.co/\">The App Brewery</a>, <a href=\"https://angelabauer.github.io/cv/hobbies.html\">My Hobbies</a>, <a href=\"https://angelabauer.github.io/cv/contact-me.html\">Contact Me</a>]\n"
     ]
    }
   ],
   "source": [
    "all_anchor_tags = soup.find_all(name=\"a\")\n",
    "print('all_anchor_tags: ', all_anchor_tags)"
   ]
  },
  {
   "cell_type": "code",
   "execution_count": 14,
   "metadata": {},
   "outputs": [
    {
     "name": "stdout",
     "output_type": "stream",
     "text": [
      "The App Brewery\n",
      "https://www.appbrewery.co/\n",
      "https://www.appbrewery.co/\n",
      "My Hobbies\n",
      "https://angelabauer.github.io/cv/hobbies.html\n",
      "https://angelabauer.github.io/cv/hobbies.html\n",
      "Contact Me\n",
      "https://angelabauer.github.io/cv/contact-me.html\n",
      "https://angelabauer.github.io/cv/contact-me.html\n"
     ]
    }
   ],
   "source": [
    "for tag in all_anchor_tags:\n",
    "    print(tag.getText())\n",
    "    print(tag.get(\"href\"))\n",
    "    print(tag[\"href\"])"
   ]
  },
  {
   "cell_type": "code",
   "execution_count": null,
   "metadata": {},
   "outputs": [],
   "source": []
  },
  {
   "cell_type": "code",
   "execution_count": 13,
   "metadata": {},
   "outputs": [
    {
     "data": {
      "text/plain": [
       "[<a href=\"https://www.appbrewery.co/\">The App Brewery</a>,\n",
       " <a href=\"https://angelabauer.github.io/cv/hobbies.html\">My Hobbies</a>,\n",
       " <a href=\"https://angelabauer.github.io/cv/contact-me.html\">Contact Me</a>]"
      ]
     },
     "execution_count": 13,
     "metadata": {},
     "output_type": "execute_result"
    }
   ],
   "source": [
    "soup.select(selector=\"body a\")"
   ]
  }
 ],
 "metadata": {
  "kernelspec": {
   "display_name": "Python 3.9.7 ('base')",
   "language": "python",
   "name": "python3"
  },
  "language_info": {
   "codemirror_mode": {
    "name": "ipython",
    "version": 3
   },
   "file_extension": ".py",
   "mimetype": "text/x-python",
   "name": "python",
   "nbconvert_exporter": "python",
   "pygments_lexer": "ipython3",
   "version": "3.9.7"
  },
  "orig_nbformat": 4,
  "vscode": {
   "interpreter": {
    "hash": "d63037db690493584af13c932001cbcec6e8d8f1b0fe914ec2418adc9d2150bb"
   }
  }
 },
 "nbformat": 4,
 "nbformat_minor": 2
}
