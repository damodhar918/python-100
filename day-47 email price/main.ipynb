{
 "cells": [
  {
   "cell_type": "code",
   "execution_count": 2,
   "metadata": {},
   "outputs": [
    {
     "name": "stdout",
     "output_type": "stream",
     "text": [
      "<div class=\"celwidget\" data-feature-name=\"corePrice_desktop\" id=\"corePrice_desktop\">\n",
      " <div class=\"a-section a-spacing-small\">\n",
      "  <table class=\"a-lineitem a-align-top\">\n",
      "   <tr>\n",
      "    <td class=\"a-color-secondary a-size-base a-text-right a-nowrap\">\n",
      "     Price:\n",
      "    </td>\n",
      "    <td class=\"a-span12\">\n",
      "     <span class=\"a-price a-text-price a-size-medium apexPriceToPay\" data-a-color=\"price\" data-a-size=\"b\">\n",
      "      <span class=\"a-offscreen\">\n",
      "       $269.99\n",
      "      </span>\n",
      "      <span aria-hidden=\"true\">\n",
      "       $269.99\n",
      "      </span>\n",
      "     </span>\n",
      "     <span class=\"\">\n",
      "      <span class=\"celwidget\" data-feature-name=\"jewelryPriceBreakup\" id=\"jewelryPriceBreakup_feature_div\">\n",
      "      </span>\n",
      "      <span class=\"celwidget\" data-feature-name=\"agsIfdInsidePrice\" id=\"agsIfdInsidePrice_feature_div\">\n",
      "       <!-- For LightningDeal use case, agsShippingAndIfdInsideBuyBox is only configured on regular offer, so set defaultPageContext as buyingPrice -->\n",
      "      </span>\n",
      "      <span class=\"celwidget\" data-feature-name=\"regulatoryDeposit\" id=\"regulatoryDeposit_feature_div\">\n",
      "      </span>\n",
      "      <span class=\"celwidget\" data-feature-name=\"deliveryPriceBadging\" id=\"deliveryPriceBadging_feature_div\">\n",
      "       <input id=\"deliveryBlockSelectAsin\" type=\"hidden\" value=\"B07W55DDFB\"/>\n",
      "       <input id=\"deliveryBlockSelectMerchant\" type=\"hidden\" value=\"A2HQGNLZVR8E5F\"/>\n",
      "       <script type=\"text/javascript\">\n",
      "        P.when(\"A\", \"jQuery\").execute(function(A, $) {\n",
      "    $(\"#selectQuantity [name='quantity'], #mobileQuantityDropDown\").live(\"change\", function (event) {\n",
      "      if (event.updatePromiseBadgeOnQuantityChange) {\n",
      "          return;\n",
      "      }\n",
      "\n",
      "      event.updatePromiseBadgeOnQuantityChange = 1;\n",
      "\n",
      "        \n",
      "          // \"#buybox\" is included in this list because if there is no accordion row, then it is a single-offer layout\n",
      "          var accordionRow = $(this).closest('[id$=\"AccordionRow\"], #buybox');\n",
      "         \n",
      "\n",
      "      var quantity = $(this).val();\n",
      "      // This asin and merchantId will support use case in US marketplace.\n",
      "      // DDM will be required here to support the feature in IN marketplace\n",
      "      var asin = accordionRow.find(\"#deliveryBlockSelectAsin\").val();\n",
      "      var merchantId = accordionRow.find(\"#deliveryBlockSelectMerchant\").val();\n",
      "\n",
      "      if (!asin) {\n",
      "        asin = accordionRow.find(\"#ftSelectAsin\").val();\n",
      "      }\n",
      "      if (!merchantId) {\n",
      "        merchantId = accordionRow.find(\"#ftSelectMerchant\").val();\n",
      "      }\n",
      "\n",
      "      if (!asin || !quantity) {\n",
      "        return;\n",
      "      }\n",
      "\n",
      "      var params = [];\n",
      "      params.push(\"asin=\" + asin);\n",
      "      params.push(\"quantity=\" + quantity);\n",
      "      params.push(\"exclusiveMerchantId=\" + merchantId);\n",
      "      params.push(\"merchantId=\" + merchantId);\n",
      "      params.push(\"clientId=retailwebsite\");\n",
      "      params.push(\"deviceType=web\");\n",
      "      params.push(\"showFeatures=priceBlockMs3Mir\");\n",
      "      params.push(\"ie=UTF8\");\n",
      "      params.push(\"experienceId=priceBadgingQuantityRefreshAjaxExperience\");\n",
      "\n",
      "      $.ajax({\n",
      "        type: \"GET\",\n",
      "        url: \"/gp/product/ajax?\",\n",
      "        contentType: 'application/x-www-form-urlencoded;charset=utf-8',\n",
      "        data: params.join('&'),\n",
      "        accordionRow: accordionRow,\n",
      "        dataType: \"html\",\n",
      "        success: function (objResponse) {\n",
      "          if (objResponse != null && objResponse != \"\") {\n",
      "            accordionRow.find(\"#priceBadging_feature_div\").replaceWith(objResponse);\n",
      "\n",
      "              \n",
      "                // If it's a single buying option layout or the new buy box quantity changed, update data outside the buy box\n",
      "                if ($(\"#buyBoxAccordion, #buybox\").children().length === 1 || accordionRow.is(\"#newAccordionRow\")) {\n",
      "               \n",
      "              $(\"#price #priceblock_ourprice_row #ourprice_shippingmessage #priceBadging_feature_div\").replaceWith(objResponse);\n",
      "              $(\"#newOfferShippingMessage_feature_div #ourPrice_availability #priceBadging_feature_div\").replaceWith(objResponse);\n",
      "              $(\"#price #priceblock_saleprice_row #saleprice_shippingmessage #priceBadging_feature_div\").replaceWith(objResponse);\n",
      "              $(\"#price #priceblock_dealprice_row #dealprice_shippingmessage #priceBadging_feature_div\").replaceWith(objResponse);\n",
      "            }\n",
      "          }\n",
      "        }\n",
      "      });\n",
      "\n",
      "      return;\n",
      "    });\n",
      "  });\n",
      "       </script>\n",
      "      </span>\n",
      "      <span class=\"celwidget\" data-feature-name=\"freeShippingPriceBadging\" id=\"freeShippingPriceBadging_feature_div\">\n",
      "       <span class=\"a-size-base\">\n",
      "       </span>\n",
      "      </span>\n",
      "      <span class=\"celwidget\" data-feature-name=\"freeReturns\" id=\"freeReturns_feature_div\">\n",
      "      </span>\n",
      "      <span class=\"celwidget\" data-feature-name=\"dealTimer\" id=\"dealTimer_feature_div\">\n",
      "      </span>\n",
      "     </span>\n",
      "    </td>\n",
      "   </tr>\n",
      "  </table>\n",
      " </div>\n",
      "</div>\n",
      "\n"
     ]
    }
   ],
   "source": [
    "import requests\n",
    "import lxml\n",
    "from bs4 import BeautifulSoup\n",
    "\n",
    "url = \"https://www.amazon.com/Duo-Evo-Plus-esterilizadora-vaporizador/dp/B07W55DDFB/ref=sr_1_4?qid=1597660904\"\n",
    "header = {\n",
    "    \"User-Agent\": \"Mozilla/5.0 (Macintosh; Intel Mac OS X 10_15_5) AppleWebKit/537.36 (KHTML, like Gecko) Chrome/84.0.4147.125 Safari/537.36\",\n",
    "    \"Accept-Language\": \"en-GB,en-US;q=0.9,en;q=0.8\"\n",
    "}\n",
    "\n",
    "response = requests.get(url, headers=header)\n",
    "\n",
    "soup = BeautifulSoup(response.content, \"lxml\")\n",
    "print(soup.find(id=\"corePrice_desktop\").prettify())\n",
    "\n"
   ]
  },
  {
   "cell_type": "code",
   "execution_count": 3,
   "metadata": {},
   "outputs": [
    {
     "name": "stdout",
     "output_type": "stream",
     "text": [
      "269.99\n"
     ]
    }
   ],
   "source": [
    "price = soup.find(id=\"corePrice_desktop\").get_text()\n",
    "price_without_currency = price.split(\"$\")[1]\n",
    "price_as_float = float(price_without_currency)\n",
    "# soup.find(id=\"corePrice_desktop\").get_text().split(\"$\")[1].strip()\n",
    "print(price_as_float)"
   ]
  },
  {
   "cell_type": "code",
   "execution_count": 4,
   "metadata": {},
   "outputs": [
    {
     "data": {
      "text/plain": [
       "'Instant Pot Duo Evo Plus 10-in-1 Pressure Cooker, Rice Cooker, Slow Cooker, Yogurt Maker, Sous Vide, Sauté, Food Warmer, Bake, Stock Pot, Steamer, Cookware Grade Stainless Steel Inner Pot, 6 Quart'"
      ]
     },
     "execution_count": 4,
     "metadata": {},
     "output_type": "execute_result"
    }
   ],
   "source": [
    "soup.find(id=\"productTitle\").get_text().strip()"
   ]
  },
  {
   "cell_type": "code",
   "execution_count": 9,
   "metadata": {},
   "outputs": [
    {
     "name": "stdout",
     "output_type": "stream",
     "text": [
      "269.99\n"
     ]
    }
   ],
   "source": [
    "import smtplib\n",
    "\n",
    "title = soup.find(id=\"productTitle\").get_text().strip()\n",
    "print(price_as_float)\n",
    "\n",
    "BUY_PRICE = 300\n",
    "YOUR_EMAIL = 'damodhar918@gmail.com'\n",
    "SENT_EMAIL = 'damodhar918@gmail.com,damodhar918@outlook.com'\n",
    "YOUR_PASSWORD = 'vwxbfonaizdmzetx'\n",
    "YOUR_SMTP_ADDRESS = 'smtp.gmail.com'\n",
    "\n",
    "# Gmail: smtp.gmail.com\n",
    "# Hotmail: smtp.live.com\n",
    "# Outlook: outlook.office365.com\n",
    "# Yahoo: smtp.mail.yahoo.com\n",
    "if price_as_float < BUY_PRICE:\n",
    "    message = f\"{title} is now {price_as_float}\"\n",
    "\n",
    "    with smtplib.SMTP(YOUR_SMTP_ADDRESS, port=587) as connection:\n",
    "        connection.starttls()\n",
    "        result = connection.login(YOUR_EMAIL, YOUR_PASSWORD)\n",
    "        connection.sendmail(\n",
    "            from_addr=YOUR_EMAIL,\n",
    "            to_addrs=SENT_EMAIL,\n",
    "            msg=f\"Subject:Amazon Price Alert!\\n\\n{message}\\n{url}\".encode('utf-8')\n",
    "        )"
   ]
  }
 ],
 "metadata": {
  "kernelspec": {
   "display_name": "Python 3.9.7 ('base')",
   "language": "python",
   "name": "python3"
  },
  "language_info": {
   "codemirror_mode": {
    "name": "ipython",
    "version": 3
   },
   "file_extension": ".py",
   "mimetype": "text/x-python",
   "name": "python",
   "nbconvert_exporter": "python",
   "pygments_lexer": "ipython3",
   "version": "3.9.7"
  },
  "orig_nbformat": 4,
  "vscode": {
   "interpreter": {
    "hash": "d63037db690493584af13c932001cbcec6e8d8f1b0fe914ec2418adc9d2150bb"
   }
  }
 },
 "nbformat": 4,
 "nbformat_minor": 2
}
