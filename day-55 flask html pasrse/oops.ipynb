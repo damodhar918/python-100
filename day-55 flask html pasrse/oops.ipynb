{
 "cells": [
  {
   "cell_type": "code",
   "execution_count": 1,
   "metadata": {},
   "outputs": [
    {
     "name": "stdout",
     "output_type": "stream",
     "text": [
      "This is Angela's new blog post.\n"
     ]
    }
   ],
   "source": [
    "# Advanced Python: Decorators Function\n",
    "\n",
    "class User:\n",
    "    def __init__(self, name, email):\n",
    "        self.name = name\n",
    "        self.email = email\n",
    "        self.logged = False\n",
    "        \n",
    "def create_blog_post(user):\n",
    "    print(f\"This is {user.name}'s new blog post.\")\n",
    "    \n",
    "new_user = User(\"Angela\", \"rah@fe.in\")\n",
    "create_blog_post(new_user)"
   ]
  },
  {
   "cell_type": "code",
   "execution_count": 2,
   "metadata": {},
   "outputs": [
    {
     "data": {
      "text/plain": [
       "'Please login'"
      ]
     },
     "execution_count": 2,
     "metadata": {},
     "output_type": "execute_result"
    }
   ],
   "source": [
    "# Advanced Python: Decorators Function\n",
    "\n",
    "class User:\n",
    "    def __init__(self, name, email):\n",
    "        self.name = name\n",
    "        self.email = email\n",
    "        self.logged = False\n",
    "     \n",
    "def is_authenticated_decorator(function):\n",
    "    def wrapper(*args, **kwargs):\n",
    "        if args[0].logged == True:\n",
    "            return function(*args, **kwargs)\n",
    "        else:\n",
    "            return \"Please login\"\n",
    "    return wrapper   \n",
    "\n",
    "@is_authenticated_decorator\n",
    "def create_blog_post(user):\n",
    "    print(f\"This is {user.name}'s new blog post.\")\n",
    "    \n",
    "new_user = User(\"Angela\", \"rah@fe.in\")\n",
    "create_blog_post(new_user)"
   ]
  },
  {
   "cell_type": "code",
   "execution_count": 3,
   "metadata": {},
   "outputs": [
    {
     "name": "stdout",
     "output_type": "stream",
     "text": [
      "This is Angela's new blog post.\n"
     ]
    }
   ],
   "source": [
    "# Advanced Python: Decorators Function\n",
    "\n",
    "class User:\n",
    "    def __init__(self, name, email):\n",
    "        self.name = name\n",
    "        self.email = email\n",
    "        self.logged = False\n",
    "     \n",
    "def is_authenticated_decorator(function):\n",
    "    def wrapper(*args, **kwargs):\n",
    "        if args[0].logged == True:\n",
    "            return function(*args, **kwargs)\n",
    "        else:\n",
    "            return \"Please login\"\n",
    "    return wrapper   \n",
    "\n",
    "@is_authenticated_decorator\n",
    "def create_blog_post(user):\n",
    "    print(f\"This is {user.name}'s new blog post.\")\n",
    "    \n",
    "new_user = User(\"Angela\", \"rah@fe.in\")\n",
    "new_user.logged = True\n",
    "create_blog_post(new_user)"
   ]
  },
  {
   "cell_type": "markdown",
   "metadata": {},
   "source": [
    "## Advanced Decorators\n",
    "\n",
    "# Instructions\n",
    "\n",
    "Create a `logging_decorator()` which is going to log the name of the function that was called, the arguments it was given and finally the returned output. \n",
    "\n",
    "# Expected Output\n",
    "\n",
    " ![](https://cdn.fs.teachablecdn.com/jA2ypes2RfuB0cuC41yd)\n",
    "\n",
    "HINT 1: You can use `function.__name__` to get the name of the function.\n",
    "\n",
    "HINT 2: You'll need to use `*args`\n",
    "\n",
    "SOLUTION:  [https://repl.it/@appbrewery/day-55-1-solution](https://repl.it/@appbrewery/day-55-1-solution#main.py)"
   ]
  },
  {
   "cell_type": "code",
   "execution_count": 4,
   "metadata": {},
   "outputs": [
    {
     "name": "stdout",
     "output_type": "stream",
     "text": [
      "You called a_function(1, 2, 3)\n",
      "It returned: 6\n"
     ]
    }
   ],
   "source": [
    "def logging_decorator(fn):\n",
    "    def wrapper(*args, **kwargs):\n",
    "        print(f\"You called {fn.__name__}{args}\")\n",
    "        result = fn(args[0], args[1], args[2])\n",
    "        print(f\"It returned: {result}\")\n",
    "    return wrapper\n",
    "\n",
    "\n",
    "@logging_decorator\n",
    "def a_function(a, b, c):\n",
    "    return a * b * c\n",
    "    \n",
    "a_function(1, 2, 3)\n"
   ]
  }
 ],
 "metadata": {
  "kernelspec": {
   "display_name": "Python 3.9.7 ('base')",
   "language": "python",
   "name": "python3"
  },
  "language_info": {
   "codemirror_mode": {
    "name": "ipython",
    "version": 3
   },
   "file_extension": ".py",
   "mimetype": "text/x-python",
   "name": "python",
   "nbconvert_exporter": "python",
   "pygments_lexer": "ipython3",
   "version": "3.9.7"
  },
  "orig_nbformat": 4,
  "vscode": {
   "interpreter": {
    "hash": "d63037db690493584af13c932001cbcec6e8d8f1b0fe914ec2418adc9d2150bb"
   }
  }
 },
 "nbformat": 4,
 "nbformat_minor": 2
}
